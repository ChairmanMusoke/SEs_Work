{
 "cells": [
  {
   "cell_type": "code",
   "execution_count": 1,
   "id": "6817ca98-b4d0-439c-9bf8-1ab5f7f5e82a",
   "metadata": {
    "tags": []
   },
   "outputs": [],
   "source": [
    "import pandas as pd\n",
    "import numpy as np\n",
    "from openpyxl import Workbook as wb"
   ]
  },
  {
   "cell_type": "code",
   "execution_count": 2,
   "id": "45696d1a-6117-4dca-bfe0-18d63f0f1fd4",
   "metadata": {
    "tags": []
   },
   "outputs": [],
   "source": [
    "GAC_SEs = pd.read_csv(\"/Users/rtv-lpt-129/Downloads/PEAL - Standards Evaluation - June_GAC (1)(1).csv\", encoding='latin1', low_memory = False)"
   ]
  },
  {
   "cell_type": "code",
   "execution_count": 3,
   "id": "f4376d3e-94fa-46a9-8638-6451652304b7",
   "metadata": {
    "tags": []
   },
   "outputs": [
    {
     "data": {
      "text/html": [
       "<div>\n",
       "<style scoped>\n",
       "    .dataframe tbody tr th:only-of-type {\n",
       "        vertical-align: middle;\n",
       "    }\n",
       "\n",
       "    .dataframe tbody tr th {\n",
       "        vertical-align: top;\n",
       "    }\n",
       "\n",
       "    .dataframe thead th {\n",
       "        text-align: right;\n",
       "    }\n",
       "</style>\n",
       "<table border=\"1\" class=\"dataframe\">\n",
       "  <thead>\n",
       "    <tr style=\"text-align: right;\">\n",
       "      <th></th>\n",
       "      <th>SubmissionDate</th>\n",
       "      <th>starttime</th>\n",
       "      <th>endtime</th>\n",
       "      <th>text_audit</th>\n",
       "      <th>ev_date</th>\n",
       "      <th>district_0</th>\n",
       "      <th>enumerator</th>\n",
       "      <th>cluster_0</th>\n",
       "      <th>village_0</th>\n",
       "      <th>ev_month</th>\n",
       "      <th>...</th>\n",
       "      <th>liquid_manure_nursery</th>\n",
       "      <th>organic_pesticides_nursery</th>\n",
       "      <th>nursery_watered</th>\n",
       "      <th>crop_varieties_planted</th>\n",
       "      <th>village_instance</th>\n",
       "      <th>final_instance</th>\n",
       "      <th>instanceID</th>\n",
       "      <th>instanceName</th>\n",
       "      <th>formdef_version</th>\n",
       "      <th>KEY</th>\n",
       "    </tr>\n",
       "  </thead>\n",
       "  <tbody>\n",
       "    <tr>\n",
       "      <th>0</th>\n",
       "      <td>Jul 12, 2024 5:44:49 PM</td>\n",
       "      <td>Jul 12, 2024 8:28:53 AM</td>\n",
       "      <td>Jul 12, 2024 1:46:27 PM</td>\n",
       "      <td>https://rtvuganda.surveycto.com/view/submissio...</td>\n",
       "      <td>12/07/2024</td>\n",
       "      <td>Kagadi</td>\n",
       "      <td>Kasangaki Micheal</td>\n",
       "      <td>Buhumuliro</td>\n",
       "      <td>Kasozi</td>\n",
       "      <td>23</td>\n",
       "      <td>...</td>\n",
       "      <td>NaN</td>\n",
       "      <td>NaN</td>\n",
       "      <td>NaN</td>\n",
       "      <td>NaN</td>\n",
       "      <td>Kasozi</td>\n",
       "      <td>Household SE:Benadi Byaruhanga</td>\n",
       "      <td>uuid:8ceb220c-8592-4729-a334-d7f96e0b15a7</td>\n",
       "      <td>Household SE:Benadi Byaruhanga</td>\n",
       "      <td>2407040804</td>\n",
       "      <td>uuid:8ceb220c-8592-4729-a334-d7f96e0b15a7</td>\n",
       "    </tr>\n",
       "  </tbody>\n",
       "</table>\n",
       "<p>1 rows × 788 columns</p>\n",
       "</div>"
      ],
      "text/plain": [
       "            SubmissionDate                starttime                  endtime  \\\n",
       "0  Jul 12, 2024 5:44:49 PM  Jul 12, 2024 8:28:53 AM  Jul 12, 2024 1:46:27 PM   \n",
       "\n",
       "                                          text_audit     ev_date district_0  \\\n",
       "0  https://rtvuganda.surveycto.com/view/submissio...  12/07/2024     Kagadi   \n",
       "\n",
       "          enumerator   cluster_0 village_0  ev_month  ...  \\\n",
       "0  Kasangaki Micheal  Buhumuliro    Kasozi        23  ...   \n",
       "\n",
       "   liquid_manure_nursery  organic_pesticides_nursery  nursery_watered  \\\n",
       "0                    NaN                         NaN              NaN   \n",
       "\n",
       "   crop_varieties_planted village_instance                  final_instance  \\\n",
       "0                     NaN           Kasozi  Household SE:Benadi Byaruhanga   \n",
       "\n",
       "                                  instanceID                    instanceName  \\\n",
       "0  uuid:8ceb220c-8592-4729-a334-d7f96e0b15a7  Household SE:Benadi Byaruhanga   \n",
       "\n",
       "  formdef_version                                        KEY  \n",
       "0      2407040804  uuid:8ceb220c-8592-4729-a334-d7f96e0b15a7  \n",
       "\n",
       "[1 rows x 788 columns]"
      ]
     },
     "execution_count": 3,
     "metadata": {},
     "output_type": "execute_result"
    }
   ],
   "source": [
    "GAC_SEs.head(1)"
   ]
  },
  {
   "cell_type": "code",
   "execution_count": 4,
   "id": "1cc5c33a-4874-4864-803e-6ac05fbb3382",
   "metadata": {
    "tags": []
   },
   "outputs": [],
   "source": [
    "HHLevel = GAC_SEs[GAC_SEs['standards_report'] == 'Household'].copy()"
   ]
  },
  {
   "cell_type": "code",
   "execution_count": 5,
   "id": "3917d29e-e324-4d6a-9d7f-7e60bced8593",
   "metadata": {
    "tags": []
   },
   "outputs": [],
   "source": [
    "HHLevel['Water control Practice'] = np.where(HHLevel['water_mgt_methods_num'] > 0, 1,0)\n",
    "HHLevel['Soil Management Practice'] = np.where(HHLevel['soil_mgt_methods_num'] > 1, 1,0)\n",
    "HHLevel['KAP Livestock'] = np.where(HHLevel['kap_livestock_num'] > 3, 1,0)\n",
    "HHLevel['KAP Agriculture'] = np.where(HHLevel['kap_farm_practices_num'] > 3, 1,0)\n",
    "HHLevel['3 Composts'] = np.where(HHLevel['composts_num'] > 2, 1,0)\n",
    "HHLevel['Vegetable gardening Practices'] = np.where(HHLevel['vegetable_farm_mode_num'] > 0, 1,0)"
   ]
  },
  {
   "cell_type": "code",
   "execution_count": 6,
   "id": "a799d094-097c-48d6-a9de-a908d48ead9f",
   "metadata": {
    "tags": []
   },
   "outputs": [],
   "source": [
    "conditions = [\n",
    "    (HHLevel['hh_age'] < 31), \n",
    "    (HHLevel['hh_age'] > 30) & (HHLevel['hh_gender'] == 1),\n",
    "    (HHLevel['hh_age'] > 30) & (HHLevel['hh_gender'] == 2)\n",
    "]\n",
    "\n",
    "# Define the corresponding outputs\n",
    "choices = ['Youthheaded', 'Maleheaded', 'Femaleheaded']\n",
    "\n",
    "# Create the 'headship' column\n",
    "HHLevel['headship'] = np.select(conditions, choices)"
   ]
  },
  {
   "cell_type": "code",
   "execution_count": 10,
   "id": "31811b2b-0063-45a3-b33f-e450c105cd2c",
   "metadata": {
    "tags": []
   },
   "outputs": [],
   "source": [
    "conditions = [\n",
    "    (HHLevel['age_1'] < 31), \n",
    "    (HHLevel['age_1'] > 30) & (HHLevel['hh_sex'] == 'Male'),\n",
    "    (HHLevel['age_1'] > 30) & (HHLevel['hh_sex'] == 'Female')\n",
    "]\n",
    "\n",
    "# Define the corresponding outputs\n",
    "choices = ['Youthheaded', 'Maleheaded', 'Femaleheaded']\n",
    "\n",
    "# Create the 'headship' column\n",
    "HHLevel['headship'] = np.select(conditions, choices)"
   ]
  },
  {
   "cell_type": "code",
   "execution_count": 11,
   "id": "a8af5eb7-8948-4e25-9fdd-78200a10a456",
   "metadata": {
    "tags": []
   },
   "outputs": [
    {
     "data": {
      "text/plain": [
       "0    Youthheaded\n",
       "1     Maleheaded\n",
       "2     Maleheaded\n",
       "3     Maleheaded\n",
       "4     Maleheaded\n",
       "Name: headship, dtype: object"
      ]
     },
     "execution_count": 11,
     "metadata": {},
     "output_type": "execute_result"
    }
   ],
   "source": [
    "HHLevel['headship'].head()"
   ]
  },
  {
   "cell_type": "code",
   "execution_count": 12,
   "id": "9ea9d2b1-918c-477c-a0d7-590d7065f929",
   "metadata": {
    "tags": []
   },
   "outputs": [
    {
     "data": {
      "text/html": [
       "<div>\n",
       "<style scoped>\n",
       "    .dataframe tbody tr th:only-of-type {\n",
       "        vertical-align: middle;\n",
       "    }\n",
       "\n",
       "    .dataframe tbody tr th {\n",
       "        vertical-align: top;\n",
       "    }\n",
       "\n",
       "    .dataframe thead th {\n",
       "        text-align: right;\n",
       "    }\n",
       "</style>\n",
       "<table border=\"1\" class=\"dataframe\">\n",
       "  <thead>\n",
       "    <tr style=\"text-align: right;\">\n",
       "      <th></th>\n",
       "      <th>Water control Practice</th>\n",
       "      <th>Soil Management Practice</th>\n",
       "      <th>Vegetable gardening Practices</th>\n",
       "      <th>KAP Livestock</th>\n",
       "      <th>KAP Agriculture</th>\n",
       "      <th>3 Composts</th>\n",
       "    </tr>\n",
       "  </thead>\n",
       "  <tbody>\n",
       "    <tr>\n",
       "      <th>0</th>\n",
       "      <td>1</td>\n",
       "      <td>1</td>\n",
       "      <td>0</td>\n",
       "      <td>0</td>\n",
       "      <td>1</td>\n",
       "      <td>1</td>\n",
       "    </tr>\n",
       "  </tbody>\n",
       "</table>\n",
       "</div>"
      ],
      "text/plain": [
       "   Water control Practice  Soil Management Practice  \\\n",
       "0                       1                         1   \n",
       "\n",
       "   Vegetable gardening Practices  KAP Livestock  KAP Agriculture  3 Composts  \n",
       "0                              0              0                1           1  "
      ]
     },
     "execution_count": 12,
     "metadata": {},
     "output_type": "execute_result"
    }
   ],
   "source": [
    "HHLevel[['Water control Practice', 'Soil Management Practice', \n",
    "     'Vegetable gardening Practices', 'KAP Livestock', 'KAP Agriculture', '3 Composts']].head(1)"
   ]
  },
  {
   "cell_type": "code",
   "execution_count": 13,
   "id": "192d8989-1e78-43ce-bf40-a9939f57c08c",
   "metadata": {
    "tags": []
   },
   "outputs": [],
   "source": [
    "HHLevel['Compost Compliance'] =  HHLevel[['3 Composts', 'composts_standard', 'forms_non_bio',\n",
    "                                  'composts_free_runoff', 'composts_manure_usuage']].mean(axis = 1)"
   ]
  },
  {
   "cell_type": "code",
   "execution_count": 14,
   "id": "e0e3c8a6-4334-42df-98bc-92c7c6673992",
   "metadata": {
    "tags": []
   },
   "outputs": [],
   "source": [
    "HHLevel['Drying Method Num'] = HHLevel[['drying_method_1','drying_method_2',\n",
    "                                    'drying_method_3']].sum(axis = 1)"
   ]
  },
  {
   "cell_type": "code",
   "execution_count": 15,
   "id": "841b7f6c-2456-4e9d-8ef9-46d646259c0b",
   "metadata": {
    "tags": []
   },
   "outputs": [],
   "source": [
    "HHLevel['Drying Method'] = np.where(HHLevel['Drying Method Num'] > 0,1,0)"
   ]
  },
  {
   "cell_type": "code",
   "execution_count": 16,
   "id": "9416e20a-ca49-4c32-b8b7-61c95bb582e7",
   "metadata": {
    "tags": []
   },
   "outputs": [],
   "source": [
    "HHLevel['Post harvest handling'] = HHLevel[['Drying Method', 'sorting_grading_done', \n",
    "                                     'post_harvest_sys_present']].mean(axis = 1)"
   ]
  },
  {
   "cell_type": "code",
   "execution_count": 17,
   "id": "3c19a0d4-569a-4243-b557-3df9795fdbcb",
   "metadata": {
    "tags": []
   },
   "outputs": [],
   "source": [
    "HHLevel['Agric Compliance'] = HHLevel[['Compost Compliance', 'Post harvest handling', 'Water control Practice',\n",
    "                               'Soil Management Practice', 'Vegetable gardening Practices', \n",
    "                               'hh_apply_lq_manure', 'hh_organic_pesticides']].mean(axis = 1)"
   ]
  },
  {
   "cell_type": "code",
   "execution_count": 18,
   "id": "ac8633fe-622d-462e-b713-1585cb0ede42",
   "metadata": {
    "tags": []
   },
   "outputs": [],
   "source": [
    "WASH = ['latrine_present', 'latrine_cover_present', 'latrine_floor_sealed',\n",
    "                              'latrine_door_present', 'latrine_walls_sealed', 'latrine_roofleak_proof',\n",
    "                              'latrine_environ_free_debris', 'latri_environ_free_feaces', 'tippy_tap_present',\n",
    "                              'tippy_fill_water', 'soap_ash_present', 'tippy_tap_wet_area', 'cloth_hangline',\n",
    "                              'kitchen_present', 'kitchen_ventilated', 'kitchen_clean', 'bathroom_present',\n",
    "                              'bath_drainage_present', 'bathroom_clean', 'compound_clean', 'double_dishrack',\n",
    "                              'non_bio_waste_properly_sorted']"
   ]
  },
  {
   "cell_type": "code",
   "execution_count": 19,
   "id": "12bdb11f-9479-4dec-bfae-1d74a05d7593",
   "metadata": {
    "tags": []
   },
   "outputs": [],
   "source": [
    "HHLevel[WASH] = HHLevel[WASH].apply(pd.to_numeric, errors='coerce')"
   ]
  },
  {
   "cell_type": "code",
   "execution_count": 20,
   "id": "42313898-8df4-42ea-b27a-93142aed6b51",
   "metadata": {
    "tags": []
   },
   "outputs": [],
   "source": [
    "HHLevel['WASH Compliance'] = HHLevel[WASH].mean(axis = 1)"
   ]
  },
  {
   "cell_type": "code",
   "execution_count": 21,
   "id": "04efbd42-ef3d-49c1-a953-d3efeac30e7a",
   "metadata": {
    "tags": []
   },
   "outputs": [],
   "source": [
    "Livestock = ['gs_pen_constr', 'gs_pen_constr', 'gs_droppings_composted', \n",
    "             'pg_sty_constr', 'pg_sty_clean', 'pg_droppings_composted']"
   ]
  },
  {
   "cell_type": "code",
   "execution_count": 22,
   "id": "df4a40fd-002c-432a-ad63-3439d57c55cd",
   "metadata": {
    "tags": []
   },
   "outputs": [],
   "source": [
    "HHLevel['Livestock Compliance'] = HHLevel[Livestock].mean(axis = 1)"
   ]
  },
  {
   "cell_type": "code",
   "execution_count": 23,
   "id": "bfa5a410-ff60-4be0-8e6b-ae244cd9754e",
   "metadata": {
    "tags": []
   },
   "outputs": [],
   "source": [
    "HHLevel['Overall Compliance'] = HHLevel[['Agric Compliance', 'WASH Compliance', \n",
    "                                 'Livestock Compliance', 'vlsa_membership']].mean(axis = 1)"
   ]
  },
  {
   "cell_type": "code",
   "execution_count": 24,
   "id": "46e0db5c-6b93-4f7c-87ee-18bd2bbcdb30",
   "metadata": {
    "tags": []
   },
   "outputs": [],
   "source": [
    "HHLevel['NPS Classified'] = np.where(HHLevel['overall_nps'] < 7, 'Detractor', \n",
    "                                 np.where(HHLevel['overall_nps'] > 8, 'Promoter','Passive'))"
   ]
  },
  {
   "cell_type": "code",
   "execution_count": 25,
   "id": "b48a614d-3ee8-4ab6-91fe-7b7066b3b3b7",
   "metadata": {
    "tags": []
   },
   "outputs": [
    {
     "ename": "NameError",
     "evalue": "name 'Village_NPS' is not defined",
     "output_type": "error",
     "traceback": [
      "\u001b[0;31m---------------------------------------------------------------------------\u001b[0m",
      "\u001b[0;31mNameError\u001b[0m                                 Traceback (most recent call last)",
      "Cell \u001b[0;32mIn[25], line 11\u001b[0m\n\u001b[1;32m      8\u001b[0m             df[col] \u001b[38;5;241m=\u001b[39m \u001b[38;5;241m0\u001b[39m\n\u001b[1;32m     10\u001b[0m \u001b[38;5;66;03m# Ensure required columns in Village_NPS\u001b[39;00m\n\u001b[0;32m---> 11\u001b[0m ensure_columns_exist(\u001b[43mVillage_NPS\u001b[49m, required_columns)\n\u001b[1;32m     13\u001b[0m \u001b[38;5;66;03m# Ensure required columns in Cluster_NPS\u001b[39;00m\n\u001b[1;32m     14\u001b[0m ensure_columns_exist(Cluster_NPS, required_columns)\n",
      "\u001b[0;31mNameError\u001b[0m: name 'Village_NPS' is not defined"
     ]
    }
   ],
   "source": [
    "required_columns = ['Detractor', 'Passive', 'Promoter']\n",
    "\n",
    "\n",
    "# Function to ensure columns exist and initialize if missing\n",
    "def ensure_columns_exist(df, columns):\n",
    "    for col in columns:\n",
    "        if col not in df.columns:\n",
    "            df[col] = 0\n",
    "\n",
    "# Ensure required columns in Village_NPS\n",
    "ensure_columns_exist(Village_NPS, required_columns)\n",
    "\n",
    "# Ensure required columns in Cluster_NPS\n",
    "ensure_columns_exist(Cluster_NPS, required_columns)\n",
    "\n",
    "# Create the 'Total' column for Village_NPS\n",
    "Village_NPS['Total'] = Village_NPS['Detractor'] + Village_NPS['Passive'] + Village_NPS['Promoter']\n",
    "\n",
    "# Create the 'Total' column for Cluster_NPS\n",
    "Cluster_NPS['Total'] = Cluster_NPS['Detractor'] + Cluster_NPS['Passive'] + Cluster_NPS['Promoter']\n",
    "\n",
    "# Calculate percentages for Village_NPS\n",
    "Village_NPS['Detractors(%)'] = (Village_NPS['Detractor'] / Village_NPS['Total']) * 100\n",
    "Village_NPS['Passives(%)'] = (Village_NPS['Passive'] / Village_NPS['Total']) * 100\n",
    "Village_NPS['Promoters(%)'] = (Village_NPS['Promoter'] / Village_NPS['Total']) * 100\n",
    "\n",
    "Village_NPS['Overall NPS (%)'] = Village_NPS['Promoters(%)'] - Village_NPS['Detractors(%)']\n",
    "\n",
    "# Calculate percentages for Cluster_NPS\n",
    "Cluster_NPS['Detractors(%)'] = (Cluster_NPS['Detractor'] / Cluster_NPS['Total']) * 100\n",
    "Cluster_NPS['Passives(%)'] = (Cluster_NPS['Passive'] / Cluster_NPS['Total']) * 100\n",
    "Cluster_NPS['Promoters(%)'] = (Cluster_NPS['Promoter'] / Cluster_NPS['Total']) * 100\n",
    "\n",
    "Cluster_NPS ['Overall NPS (%)'] = Cluster_NPS ['Promoters(%)'] - Cluster_NPS ['Detractors(%)']\n",
    "\n",
    "Cluster_NPS  = Cluster_NPS .reset_index()[\n",
    "    ['district_0', 'cluster_0', 'Detractors(%)', 'Passives(%)', 'Promoters(%)', 'Overall NPS (%)']\n",
    "]\n",
    "Village_NPS = Village_NPS.reset_index()[\n",
    "    ['district_0', 'cluster_0', 'village_0', 'Detractors(%)', 'Passives(%)', 'Promoters(%)', 'Overall NPS (%)']\n",
    "]\n",
    "\n",
    "Village_NPS.to_excel('GACVillage_NPS.xlsx', index=False)\n",
    "Cluster_NPS .to_excel('GACNPSCluster.xlsx', index=False)"
   ]
  },
  {
   "cell_type": "code",
   "execution_count": 26,
   "id": "f5f9d1f3-a32e-4769-b98a-4e62796eef06",
   "metadata": {
    "tags": []
   },
   "outputs": [],
   "source": [
    "Village_NPS = HHLevel.groupby(['district_0', 'cluster_0', 'village_0'])['NPS Classified'].value_counts().unstack(fill_value=0)\n",
    "\n",
    "Village_NPS = Village_NPS.reindex(columns=['Detractor', 'Passive', 'Promoter'], fill_value=0)\n",
    "\n",
    "Village_NPS['Total'] = Village_NPS.sum(axis=1)\n",
    "\n",
    "Village_NPS['Detractors(%)'] = (Village_NPS['Detractor'] / Village_NPS['Total']) * 100\n",
    "Village_NPS['Passives(%)'] = (Village_NPS['Passive'] / Village_NPS['Total']) * 100\n",
    "Village_NPS['Promoters(%)'] = (Village_NPS['Promoter'] / Village_NPS['Total']) * 100\n",
    "\n",
    "Village_NPS['Overall NPS (%)'] = Village_NPS['Promoters(%)'] - Village_NPS['Detractors(%)']\n",
    "\n",
    "Village_NPS = Village_NPS.reset_index()[\n",
    "    ['district_0', 'cluster_0', 'village_0', 'Detractors(%)', 'Passives(%)', 'Promoters(%)', 'Overall NPS (%)']\n",
    "]\n",
    "Village_NPS.to_excel('GACVillage_NPS.xlsx', index=False)"
   ]
  },
  {
   "cell_type": "code",
   "execution_count": 27,
   "id": "2b9ef8e7-4439-482e-b50e-d39e2434262b",
   "metadata": {
    "tags": []
   },
   "outputs": [],
   "source": [
    "HHLevel['VSLACommitte'] = np.where(HHLevel['vlts_committee_score'] < 7, 'Detractor', \n",
    "                                 np.where(HHLevel['overall_nps'] > 8, 'Promoter','Passive'))"
   ]
  },
  {
   "cell_type": "code",
   "execution_count": 28,
   "id": "77f76636-425b-44d3-aceb-cf4d16bb40f0",
   "metadata": {
    "tags": []
   },
   "outputs": [],
   "source": [
    "VLT_NPS = HHLevel.groupby(['district_0', 'cluster_0', 'village_0'])['VSLACommitte'].value_counts().unstack(fill_value=0)\n",
    "\n",
    "VLT_NPS = VLT_NPS.reindex(columns=['Detractor', 'Passive', 'Promoter'], fill_value=0)\n",
    "\n",
    "VLT_NPS['Total'] = VLT_NPS.sum(axis=1)\n",
    "\n",
    "VLT_NPS['Detractors(%)'] = (VLT_NPS['Detractor'] / VLT_NPS['Total']) * 100\n",
    "VLT_NPS['Passives(%)'] = (VLT_NPS['Passive'] / VLT_NPS['Total']) * 100\n",
    "VLT_NPS['Promoters(%)'] = (VLT_NPS['Promoter'] / VLT_NPS['Total']) * 100\n",
    "\n",
    "VLT_NPS['Overall NPS (%)'] = VLT_NPS['Promoters(%)'] - VLT_NPS['Detractors(%)']\n",
    "\n",
    "VLT_NPS = VLT_NPS.reset_index()[\n",
    "    ['district_0', 'cluster_0', 'village_0', 'Detractors(%)', 'Passives(%)', 'Promoters(%)', 'Overall NPS (%)']\n",
    "]\n",
    "VLT_NPS.to_excel('GACVSLA_NPS.xlsx', index=False)"
   ]
  },
  {
   "cell_type": "code",
   "execution_count": 29,
   "id": "9769457d-8ea2-46e1-856b-16dc8a3bb0a4",
   "metadata": {
    "tags": []
   },
   "outputs": [],
   "source": [
    "HHLevel['Agric Champions'] = np.where(HHLevel['agric_champion_score'] < 7, 'Detractor', \n",
    "                                 np.where(HHLevel['overall_nps'] > 8, 'Promoter','Passive'))"
   ]
  },
  {
   "cell_type": "code",
   "execution_count": 30,
   "id": "918a2eb2-b5f2-400e-bde5-e1cc78f1ffaf",
   "metadata": {
    "tags": []
   },
   "outputs": [],
   "source": [
    "Agric_NPS = HHLevel.groupby(['district_0', 'cluster_0', 'village_0'])['Agric Champions'].value_counts().unstack(fill_value=0)\n",
    "\n",
    "Agric_NPS = Agric_NPS.reindex(columns=['Detractor', 'Passive', 'Promoter'], fill_value=0)\n",
    "\n",
    "Agric_NPS['Total'] = Agric_NPS.sum(axis=1)\n",
    "\n",
    "Agric_NPS['Detractors(%)'] = (Agric_NPS['Detractor'] / Agric_NPS['Total']) * 100\n",
    "Agric_NPS['Passives(%)'] = (Agric_NPS['Passive'] / Agric_NPS['Total']) * 100\n",
    "Agric_NPS['Promoters(%)'] = (Agric_NPS['Promoter'] / Agric_NPS['Total']) * 100\n",
    "\n",
    "Agric_NPS['Overall NPS (%)'] = Agric_NPS['Promoters(%)'] - Agric_NPS['Detractors(%)']\n",
    "\n",
    "Agric_NPS = Agric_NPS.reset_index()[\n",
    "    ['district_0', 'cluster_0', 'village_0', 'Detractors(%)', 'Passives(%)', 'Promoters(%)', 'Overall NPS (%)']\n",
    "]\n",
    "Agric_NPS.to_excel('GACAgric_NPS.xlsx', index=False)"
   ]
  },
  {
   "cell_type": "code",
   "execution_count": 31,
   "id": "554d4a0c-feb9-4549-ae35-f92c7ebff80f",
   "metadata": {
    "tags": []
   },
   "outputs": [],
   "source": [
    "HHLevel['WASH Champions'] = np.where(HHLevel['wash_champion_score'] < 7, 'Detractor', \n",
    "                                 np.where(HHLevel['overall_nps'] > 8, 'Promoter','Passive'))"
   ]
  },
  {
   "cell_type": "code",
   "execution_count": 32,
   "id": "3ecdc889-13fd-4d69-986e-27ac3e90037d",
   "metadata": {
    "tags": []
   },
   "outputs": [],
   "source": [
    "WASH_NPS = HHLevel.groupby(['district_0', 'cluster_0', 'village_0'])['WASH Champions'].value_counts().unstack(fill_value=0)\n",
    "\n",
    "WASH_NPS = WASH_NPS.reindex(columns=['Detractor', 'Passive', 'Promoter'], fill_value=0)\n",
    "\n",
    "WASH_NPS['Total'] = WASH_NPS.sum(axis=1)\n",
    "\n",
    "WASH_NPS['Detractors(%)'] = (WASH_NPS['Detractor'] / WASH_NPS['Total']) * 100\n",
    "WASH_NPS['Passives(%)'] = (WASH_NPS['Passive'] / WASH_NPS['Total']) * 100\n",
    "WASH_NPS['Promoters(%)'] = (WASH_NPS['Promoter'] / WASH_NPS['Total']) * 100\n",
    "\n",
    "WASH_NPS['Overall NPS (%)'] = WASH_NPS['Promoters(%)'] - WASH_NPS['Detractors(%)']\n",
    "\n",
    "WASH_NPS = WASH_NPS.reset_index()[\n",
    "    ['district_0', 'cluster_0', 'village_0', 'Detractors(%)', 'Passives(%)', 'Promoters(%)', 'Overall NPS (%)']\n",
    "]\n",
    "WASH_NPS.to_excel('GACWASH_NPS.xlsx', index=False)"
   ]
  },
  {
   "cell_type": "code",
   "execution_count": null,
   "id": "9c7e1882-6bd7-4d5f-8cf7-892095cc0fe7",
   "metadata": {},
   "outputs": [],
   "source": []
  },
  {
   "cell_type": "code",
   "execution_count": 33,
   "id": "be9e955c-8a28-4030-b97a-141214981976",
   "metadata": {
    "tags": []
   },
   "outputs": [],
   "source": [
    "Village_Scores = HHLevel.groupby(['district_0',  'cluster_0',  'village_0', 'ev_month'])[['Overall Compliance', 'Agric Compliance', 'WASH Compliance', \n",
    "                            'Livestock Compliance', 'vlsa_membership', 'Compost Compliance', \n",
    "                            '3 Composts', 'composts_standard', 'forms_non_bio', 'composts_free_runoff', \n",
    "                            'composts_manure_usuage', 'Drying Method', 'drying_method_1','drying_method_2',\n",
    "                            'drying_method_3', 'drying_method_4', 'sorting_grading_done', \n",
    "                            'post_harvest_sys_present', 'Post harvest handling', 'Water control Practice',\n",
    "                            'Soil Management Practice', 'Vegetable gardening Practices', 'hh_apply_lq_manure', \n",
    "                            'hh_organic_pesticides', 'bbw_mgt', 'latrine_present', 'latrine_cover_present', 'latrine_floor_sealed',\n",
    "                              'latrine_door_present', 'latrine_walls_sealed', 'latrine_roofleak_proof',\n",
    "                              'latrine_environ_free_debris', 'latri_environ_free_feaces', 'tippy_tap_present',\n",
    "                              'tippy_fill_water', 'soap_ash_present', 'tippy_tap_wet_area', 'cloth_hangline',\n",
    "                              'kitchen_present', 'kitchen_ventilated', 'kitchen_clean', 'bathroom_present',\n",
    "                              'bath_drainage_present', 'bathroom_clean', 'compound_clean', 'double_dishrack',\n",
    "                              'non_bio_waste_properly_sorted', 'livestock_present_1', 'livestock_present_2',  'gs_pen_constr', 'gs_pen_clean', 'gs_droppings_composted', \n",
    "                            'livestock_present_3', 'pg_sty_constr', 'pg_sty_clean', 'pg_droppings_composted', 'KAP Livestock', \n",
    "                            'KAP Agriculture']].mean(numeric_only = True).reset_index()\n",
    "Village_Scores = Village_Scores.sort_values(\n",
    "    by=['district_0', 'cluster_0', 'Overall Compliance'], \n",
    "    ascending=[True, True, False]\n",
    ")\n",
    "\n",
    "Village_Scores.to_excel('GACVillage_Scores.xlsx', index = False)"
   ]
  },
  {
   "cell_type": "code",
   "execution_count": 34,
   "id": "f12d82dc-b654-41c6-9a4d-a09dd0f91b28",
   "metadata": {
    "tags": []
   },
   "outputs": [],
   "source": [
    "Cluster_Scores = HHLevel.groupby(['district_0',  'cluster_0', 'ev_month'])[['Overall Compliance', 'Agric Compliance', 'WASH Compliance', \n",
    "                            'Livestock Compliance', 'vlsa_membership', 'Compost Compliance', \n",
    "                            '3 Composts', 'composts_standard', 'forms_non_bio', 'composts_free_runoff', \n",
    "                            'composts_manure_usuage', 'Drying Method', 'drying_method_1','drying_method_2',\n",
    "                            'drying_method_3', 'drying_method_4', 'sorting_grading_done', \n",
    "                            'post_harvest_sys_present', 'Post harvest handling', 'Water control Practice',\n",
    "                            'Soil Management Practice', 'Vegetable gardening Practices', 'hh_apply_lq_manure', \n",
    "                            'hh_organic_pesticides', 'bbw_mgt', 'latrine_present', 'latrine_cover_present', 'latrine_floor_sealed',\n",
    "                              'latrine_door_present', 'latrine_walls_sealed', 'latrine_roofleak_proof',\n",
    "                              'latrine_environ_free_debris', 'latri_environ_free_feaces', 'tippy_tap_present',\n",
    "                              'tippy_fill_water', 'soap_ash_present', 'tippy_tap_wet_area', 'cloth_hangline',\n",
    "                              'kitchen_present', 'kitchen_ventilated', 'kitchen_clean', 'bathroom_present',\n",
    "                              'bath_drainage_present', 'bathroom_clean', 'compound_clean', 'double_dishrack',\n",
    "                              'non_bio_waste_properly_sorted', 'livestock_present_1', 'livestock_present_2',  'gs_pen_constr', 'gs_pen_clean', 'gs_droppings_composted', \n",
    "                            'livestock_present_3', 'pg_sty_constr', 'pg_sty_clean', 'pg_droppings_composted', 'KAP Livestock', \n",
    "                            'KAP Agriculture']].mean(numeric_only = True).reset_index()\n",
    "\n",
    "Cluster_Scores.to_excel('GACCluster_Scores.xlsx', index = False)"
   ]
  },
  {
   "cell_type": "code",
   "execution_count": 35,
   "id": "8373a738-ccaf-46c6-be9c-da3eaeb33dfe",
   "metadata": {
    "tags": []
   },
   "outputs": [],
   "source": [
    "HHLevel['bbw_mgt'] = HHLevel['bbw_mgt'].replace('True',1)"
   ]
  },
  {
   "cell_type": "code",
   "execution_count": 37,
   "id": "987a5038-952c-4351-b4b1-a186e0184b85",
   "metadata": {
    "tags": []
   },
   "outputs": [],
   "source": [
    "headhsipcluster = HHLevel.groupby(['district_0',  'cluster_0', 'headship'])[['KAP Livestock', \n",
    "                            'KAP Agriculture']].mean(numeric_only = True).reset_index()\n",
    "\n",
    "headhsipcluster.to_excel('Headship.xlsx', index = False)"
   ]
  },
  {
   "cell_type": "code",
   "execution_count": 38,
   "id": "f3bc2047-a205-4ec0-9d43-efb26086c591",
   "metadata": {
    "tags": []
   },
   "outputs": [],
   "source": [
    "headhsipvillage = HHLevel.groupby(['district_0',  'cluster_0', 'village_0', 'headship'])[['KAP Livestock', \n",
    "                            'KAP Agriculture']].mean(numeric_only = True).reset_index()\n",
    "\n",
    "headhsipvillage.to_excel('Headship1.xlsx', index = False)"
   ]
  },
  {
   "cell_type": "code",
   "execution_count": 39,
   "id": "f623de75-5370-4a98-907a-880b0ee872b1",
   "metadata": {
    "tags": []
   },
   "outputs": [
    {
     "name": "stderr",
     "output_type": "stream",
     "text": [
      "/var/folders/8v/g75zp59111n27nbw3_c9ypxh0000gn/T/ipykernel_58772/517156281.py:1: FutureWarning: DataFrame.applymap has been deprecated. Use DataFrame.map instead.\n",
      "  headhsipcluster1 = headhsipcluster.applymap(lambda x: x * 100 if isinstance(x, (int, float)) else x)\n",
      "/var/folders/8v/g75zp59111n27nbw3_c9ypxh0000gn/T/ipykernel_58772/517156281.py:3: FutureWarning: DataFrame.applymap has been deprecated. Use DataFrame.map instead.\n",
      "  headhsipvillage1 = headhsipvillage.applymap(lambda x: x * 100 if isinstance(x, (int, float)) else x)\n"
     ]
    }
   ],
   "source": [
    "headhsipcluster1 = headhsipcluster.applymap(lambda x: x * 100 if isinstance(x, (int, float)) else x)\n",
    "headhsipcluster1.to_excel('HeadshipC.xlsx', index = False)\n",
    "headhsipvillage1 = headhsipvillage.applymap(lambda x: x * 100 if isinstance(x, (int, float)) else x)\n",
    "headhsipvillage1.to_excel('HeadshipV.xlsx', index = False)"
   ]
  },
  {
   "cell_type": "code",
   "execution_count": 30,
   "id": "af258884-a1e8-4e15-8151-942df6a36586",
   "metadata": {
    "tags": []
   },
   "outputs": [
    {
     "name": "stdout",
     "output_type": "stream",
     "text": [
      "0      NaN\n",
      "1      NaN\n",
      "2      NaN\n",
      "3      NaN\n",
      "4      NaN\n",
      "        ..\n",
      "2822   NaN\n",
      "2823   NaN\n",
      "2824   NaN\n",
      "2825   NaN\n",
      "2826   NaN\n",
      "Name: bbw_mgt, Length: 2652, dtype: float64\n"
     ]
    }
   ],
   "source": [
    "print(HHLevel['bbw_mgt'])"
   ]
  },
  {
   "cell_type": "code",
   "execution_count": 31,
   "id": "07e1b547-e2e4-424c-bf74-81899115bd0c",
   "metadata": {
    "tags": []
   },
   "outputs": [],
   "source": [
    "BBW = HHLevel.groupby(['district_0',  'cluster_0', 'ev_month'])[[ 'bbw_mgt', 'drying_method_1','drying_method_2',\n",
    "                            'drying_method_3']].mean(numeric_only = True).reset_index()"
   ]
  },
  {
   "cell_type": "code",
   "execution_count": 32,
   "id": "3f75d06d-334d-4323-82d3-f0936e2e4a4f",
   "metadata": {
    "tags": []
   },
   "outputs": [
    {
     "name": "stdout",
     "output_type": "stream",
     "text": [
      "   district_0       cluster_0  ev_month   bbw_mgt  drying_method_1  \\\n",
      "0      Kagadi      Buhumuliro        23  0.633333         0.977273   \n",
      "1      Kagadi        Kaitemba        12  0.272727         0.977778   \n",
      "2      Kagadi  Kihuura_Kagadi        12  0.333333         0.847619   \n",
      "3      Kagadi       Kikomagwa         6  0.090909         0.977528   \n",
      "4      Kagadi          Kitema        12  0.422414         0.956938   \n",
      "5      Kagadi         Kitooro        12  0.407407         0.985294   \n",
      "6      Kagadi       Kyarwakya         6  0.275862         0.986755   \n",
      "7      Kagadi          Mbogwa         6  0.000000         0.966667   \n",
      "8      Kagadi      Nyabutanzi         6  0.269841         0.992537   \n",
      "9      Kagadi      Nyakashema        23  0.627451         0.991667   \n",
      "10     Kagadi        Rusekere         6  0.437500         0.966443   \n",
      "11     Kagadi         Ruzaire         6  0.580000         1.000000   \n",
      "12     Kagadi        Yorodani        23  0.295082         1.000000   \n",
      "13   Kyenjojo      Kaitanyana        12  0.765957         0.973510   \n",
      "14   Kyenjojo          Kibira         6  0.941176         1.000000   \n",
      "15   Kyenjojo         Kihuura        18  0.793651         0.986755   \n",
      "16   Kyenjojo         Kijweka        18  0.956522         0.981651   \n",
      "17   Kyenjojo         Mabaale         6  0.895833         0.986667   \n",
      "18   Kyenjojo         Mateete         6  1.000000         0.986301   \n",
      "19   Kyenjojo         Mirambi        12  0.851852         0.988889   \n",
      "20   Kyenjojo          Ngombe        18  0.885714         0.921053   \n",
      "21   Kyenjojo           Ntutu         6  0.520000         0.955556   \n",
      "22   Kyenjojo       Nyabubale        12  0.854545         0.978022   \n",
      "23   Kyenjojo      Rwaitengya        12  0.838710         0.966102   \n",
      "\n",
      "    drying_method_2  drying_method_3  \n",
      "0          0.045455         0.579545  \n",
      "1          0.088889         0.592593  \n",
      "2          0.123810         0.495238  \n",
      "3          0.033708         0.505618  \n",
      "4          0.081340         0.578947  \n",
      "5          0.051471         0.507353  \n",
      "6          0.046358         0.569536  \n",
      "7          0.050000         0.633333  \n",
      "8          0.059701         0.582090  \n",
      "9          0.033333         0.400000  \n",
      "10         0.053691         0.597315  \n",
      "11         0.000000         0.400000  \n",
      "12         0.041667         0.400000  \n",
      "13         0.172185         0.192053  \n",
      "14         0.206897         0.241379  \n",
      "15         0.185430         0.178808  \n",
      "16         0.155963         0.100917  \n",
      "17         0.240000         0.253333  \n",
      "18         0.191781         0.191781  \n",
      "19         0.011111         0.066667  \n",
      "20         0.289474         0.276316  \n",
      "21         0.144444         0.144444  \n",
      "22         0.252747         0.186813  \n",
      "23         0.457627         0.423729  \n"
     ]
    }
   ],
   "source": [
    "print(BBW)"
   ]
  },
  {
   "cell_type": "code",
   "execution_count": 184,
   "id": "42079f16-7f50-42f8-8d6d-a75e9eadbd39",
   "metadata": {
    "tags": []
   },
   "outputs": [
    {
     "name": "stderr",
     "output_type": "stream",
     "text": [
      "/var/folders/8v/g75zp59111n27nbw3_c9ypxh0000gn/T/ipykernel_70772/3746447759.py:1: FutureWarning: DataFrame.applymap has been deprecated. Use DataFrame.map instead.\n",
      "  Cluster_ScoresA = Cluster_Scores.applymap(lambda x: x * 100 if isinstance(x, (int, float)) else x)\n",
      "/var/folders/8v/g75zp59111n27nbw3_c9ypxh0000gn/T/ipykernel_70772/3746447759.py:3: FutureWarning: DataFrame.applymap has been deprecated. Use DataFrame.map instead.\n",
      "  Village_ScoresA = Village_Scores.applymap(lambda x: x * 100 if isinstance(x, (int, float)) else x)\n"
     ]
    }
   ],
   "source": [
    "Cluster_ScoresA = Cluster_Scores.applymap(lambda x: x * 100 if isinstance(x, (int, float)) else x)\n",
    "Cluster_ScoresA.to_excel('GACCluster_ScoresA.xlsx', index = False)\n",
    "Village_ScoresA = Village_Scores.applymap(lambda x: x * 100 if isinstance(x, (int, float)) else x)\n",
    "Village_ScoresA.to_excel('GACVillage_ScoresA.xlsx', index = False)"
   ]
  },
  {
   "cell_type": "code",
   "execution_count": 67,
   "id": "863bf541-6d5c-4373-ba93-00096f0b3212",
   "metadata": {
    "tags": []
   },
   "outputs": [],
   "source": [
    "def determine_conclusion(score):\n",
    "    if score < 70:\n",
    "        return \"Off-Track - Issue of Missing Program Targets\"\n",
    "    elif 70 <= score <= 79:\n",
    "        return \"At Risk - Below Program Targets with Major Areas to Address\"\n",
    "    elif 80 <= score <= 89:\n",
    "        return \"On Track - Near Program Targets with Minor Areas to Address\"\n",
    "    else:\n",
    "        return \"On Track - Meet or Exceed Program Targets\"\n",
    "\n",
    "# Apply the function to the \"Overall score\" column to create a new \"Conclusions\" column\n",
    "Village_ScoresA['Overall Compliance Comment'] = Village_ScoresA['Overall Compliance'].apply(determine_conclusion)\n",
    "Village_ScoresA['Agric Compliance Comment'] = Village_ScoresA['Agric Compliance'].apply(determine_conclusion)\n",
    "Village_ScoresA['WASH Compliance Comment'] = Village_ScoresA['WASH Compliance'].apply(determine_conclusion)\n",
    "Village_ScoresA['Livestock Compliance Comment'] = Village_ScoresA['Livestock Compliance'].apply(determine_conclusion)\n",
    "Village_ScoresA['VSLA Participation Comment'] = Village_ScoresA['vlsa_membership'].apply(determine_conclusion)\n",
    "\n",
    "# Create a new DataFrame with the \"Overall score\" and \"Conclusions\" columns\n",
    "Conclusions = Village_ScoresA[['district_0',  'cluster_0', 'village_0', 'ev_month','Overall Compliance Comment',\n",
    "                              'Agric Compliance Comment', 'WASH Compliance Comment', 'Livestock Compliance Comment',\n",
    "                              'VSLA Participation Comment']]\n",
    "\n",
    "Conclusions.to_excel('GACConclusions.xlsx', index = False)"
   ]
  },
  {
   "cell_type": "code",
   "execution_count": null,
   "id": "8a90bb50-21fd-4c47-8f0e-ac0fb949bd7d",
   "metadata": {},
   "outputs": [],
   "source": []
  },
  {
   "cell_type": "code",
   "execution_count": 71,
   "id": "a0b76391-b12d-4fcf-b7f7-00c27514a81b",
   "metadata": {
    "tags": []
   },
   "outputs": [],
   "source": [
    "VLevel = GAC_SEs[GAC_SEs['standards_report'] == 'Village'].copy()"
   ]
  },
  {
   "cell_type": "code",
   "execution_count": 72,
   "id": "69dfcf6d-45ab-42d5-8f0a-45fa95c3a65c",
   "metadata": {
    "tags": []
   },
   "outputs": [],
   "source": [
    "VLevel['VSLAs_num'] = VLevel[['vsla_type1_1', 'vsla_type1_2', 'vsla_type1_3']].sum(axis = 1)"
   ]
  },
  {
   "cell_type": "code",
   "execution_count": 80,
   "id": "d64edf4f-40c4-410f-b141-0f32850fa7e0",
   "metadata": {
    "tags": []
   },
   "outputs": [
    {
     "name": "stderr",
     "output_type": "stream",
     "text": [
      "/var/folders/8v/g75zp59111n27nbw3_c9ypxh0000gn/T/ipykernel_70772/1241415352.py:16: FutureWarning: Setting an item of incompatible dtype is deprecated and will raise an error in a future version of pandas. Value '-' has dtype incompatible with float64, please explicitly cast to a compatible dtype first.\n",
      "  VLevel_SEs.fillna(\"-\", inplace=True)\n",
      "/var/folders/8v/g75zp59111n27nbw3_c9ypxh0000gn/T/ipykernel_70772/1241415352.py:18: FutureWarning: DataFrame.applymap has been deprecated. Use DataFrame.map instead.\n",
      "  VLevel_SEsA = VLevel_SEs.applymap(lambda x: x * 100 if isinstance(x, (int, float)) else x)\n"
     ]
    }
   ],
   "source": [
    "VLevel_SEs = VLevel.groupby(['district_0',  'cluster_0',  'village_0', 'ev_month'])[['water_sources_num', 'wuc1', 'wuc1_fetch_records', 'wuc1_contribution_records', 'water_flow1', \n",
    "                                                                         'source_sanitary_standards1', 'source_structural_standards1', 'source_demarcation_1', 'pooling_clear_1', \n",
    "                                                                         'time_spent_reduce1', 'VSLAs_num', 'mems_active_joint', 'contr_documentation_joint', 'keep_record_members_joint', \n",
    "                                                                         'keep_record_loans_expense_joint', 'meet_regular_joint', 'om_balance_costs_joint', 'vsla_goals_documented_joint', \n",
    "                                                                         'active_committee_func_joint', 'committee_positions_filled_joint', 'loan_repayments_tracked_join', 'loaning_intrest_joint',\n",
    "                                                                         'mems_active_youth', 'contr_documentation_youth', 'keep_record_members_youth', \n",
    "                                                                         'keep_record_loans_expense_youth', 'meet_regular_youth', 'om_balance_costs_youth', 'vsla_goals_documented_youth', \n",
    "                                                                         'active_committee_func_youth', 'committee_positions_filled_youth', 'loan_repayments_tracked_youth', 'loaning_intrest_youth',\n",
    "                                                                         'mems_active_women', 'contr_documentation_women', 'keep_record_members_women', \n",
    "                                                                         'keep_record_loans_expense_women', 'meet_regular_women', 'om_balance_costs_women', 'vsla_goals_documented_women', \n",
    "                                                                         'active_committee_func_women', 'committee_positions_filled_women', 'loan_repayments_tracked_women', 'loaning_intrest_women',\n",
    "                                                                         'demo_cared', 'farm_pract_seen', 'organic_manure_demo', 'organic_pesticides_demo', 'liquid_manure_demo',\n",
    "                                                                         'nursery_shade_constr', 'farm_pract_seen_nurs', 'liquid_manure_nursery', \n",
    "                                                                         'organic_pesticides_nursery', 'nursery_watered']].mean(numeric_only = True).reset_index()\n",
    "\n",
    "VLevel_SEs.fillna(\"-\", inplace=True)\n",
    "\n",
    "VLevel_SEsA = VLevel_SEs.applymap(lambda x: x * 100 if isinstance(x, (int, float)) else x)"
   ]
  },
  {
   "cell_type": "code",
   "execution_count": 81,
   "id": "28df538e-21ad-4668-b430-7e7ddb8d260f",
   "metadata": {
    "tags": []
   },
   "outputs": [],
   "source": [
    "VLevel_SEsA.to_excel('GACVLevel_SEs.xlsx', index = False)"
   ]
  },
  {
   "cell_type": "code",
   "execution_count": 82,
   "id": "46c201ea-ccfa-425c-8b1f-69a275ea32f5",
   "metadata": {
    "tags": []
   },
   "outputs": [],
   "source": [
    "Comments = HHLevel[['district_0',  'cluster_0',  'village_0', 'ev_month', 'hh_comment',  'evaluators_comment']]"
   ]
  },
  {
   "cell_type": "code",
   "execution_count": 84,
   "id": "919c4320-934a-4464-8acc-fa8ddc02808d",
   "metadata": {
    "tags": []
   },
   "outputs": [],
   "source": [
    "Comments.to_excel('GACComments.xlsx', index = False)"
   ]
  },
  {
   "cell_type": "code",
   "execution_count": 8,
   "id": "f9e58820-9658-4077-a9a6-f444218ce205",
   "metadata": {},
   "outputs": [],
   "source": [
    "head = HHLevel[['age_1', 'hh_sex', 'headship']]"
   ]
  },
  {
   "cell_type": "code",
   "execution_count": 9,
   "id": "ea34d864-e43b-4e0e-9cee-de556b065018",
   "metadata": {
    "tags": []
   },
   "outputs": [],
   "source": [
    "head.to_excel('head.xlsx', index = False)"
   ]
  },
  {
   "cell_type": "code",
   "execution_count": null,
   "id": "60be4e17-0981-4f9e-b99e-c4eb33b6c4d3",
   "metadata": {},
   "outputs": [],
   "source": []
  }
 ],
 "metadata": {
  "kernelspec": {
   "display_name": "Python 3 (ipykernel)",
   "language": "python",
   "name": "python3"
  },
  "language_info": {
   "codemirror_mode": {
    "name": "ipython",
    "version": 3
   },
   "file_extension": ".py",
   "mimetype": "text/x-python",
   "name": "python",
   "nbconvert_exporter": "python",
   "pygments_lexer": "ipython3",
   "version": "3.12.3"
  }
 },
 "nbformat": 4,
 "nbformat_minor": 5
}
