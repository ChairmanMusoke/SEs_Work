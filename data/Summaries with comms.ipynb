{
 "cells": [
  {
   "cell_type": "code",
   "execution_count": 31,
   "id": "516ccce2-9e1c-435e-828d-b7131675f7c9",
   "metadata": {
    "tags": []
   },
   "outputs": [],
   "source": [
    "import streamlit as st\n",
    "import pandas as pd\n",
    "import hashlib\n",
    "\n",
    "\n",
    "\n",
    "#@st.cache\n",
    "def load_data():\n",
    "    df = pd.read_excel('Village_ScoresA(1).xlsx', engine='openpyxl')\n",
    "    return df\n",
    "\n",
    "def display_mean(df, column):\n",
    "    mean_value = df[column].mean()\n",
    "    st.write(f\"Mean of {column}: {mean_value:.2f}\")\n",
    "    if mean_value < 70:\n",
    "        st.write(\"Comment: Off-Track - Issue of Missing Program Targets\")\n",
    "    elif 70 <= mean_value <= 79:\n",
    "        st.write(\"Comment: At Risk - Below Program Targets with Major Areas to Address\")\n",
    "    elif 80 <= mean_value <= 89:\n",
    "        st.write(\"Comment: On Track - Near Program Targets with Minor Areas to Address\")\n",
    "    else:\n",
    "        st.write(\"Comment: On Track - Meet or Exceed Program Targets\")\n",
    "\n",
    "        \n",
    "def main():\n",
    "    st.title(\"Village SEs Summary\")\n",
    "    df = load_data()\n",
    "    st.sidebar.header(\"Select Your District, Cluster and Village\")\n",
    "\n",
    "    districts = df['District'].unique()\n",
    "    selected_district = st.sidebar.selectbox(\"Select District\", districts)\n",
    "\n",
    "    clusters = df[df['District'] == selected_district]['Cluster'].unique()\n",
    "    selected_cluster = st.sidebar.selectbox(\"Select Cluster\", clusters)\n",
    "\n",
    "    villages = df[(df['District'] == selected_district) & (df['Cluster'] == selected_cluster)]['Village'].unique()\n",
    "    selected_village = st.sidebar.selectbox(\"Select Village\", villages)\n",
    "\n",
    "    # Filter data based on selections\n",
    "    filtered_data = df[(df['District'] == selected_district) & \n",
    "                       (df['Cluster'] == selected_cluster) & \n",
    "                       (df['Village'] == selected_village)]\n",
    "\n",
    "    # Select the column for the comment\n",
    "    columns_to_summarize = st.multiselect(\"Select columns to summarize\", filtered_data.columns)\n",
    "\n",
    "    if columns_to_summarize:\n",
    "        st.write(\"Summary Statistics\")\n",
    "        for column in columns_to_summarize:\n",
    "            display_mean_with_comments(filtered_data, column)\n",
    "        display_mean(filtered_data, column_for_comment)\n",
    "if __name__ == \"__main__\":\n",
    "    main()\n"
   ]
  },
  {
   "cell_type": "code",
   "execution_count": 18,
   "id": "4780a1ff-cb0f-4df4-945f-392dc94a5676",
   "metadata": {
    "tags": []
   },
   "outputs": [],
   "source": []
  },
  {
   "cell_type": "code",
   "execution_count": null,
   "id": "756d6884-71c1-46b8-b75d-cbce53b96e14",
   "metadata": {
    "tags": []
   },
   "outputs": [],
   "source": []
  },
  {
   "cell_type": "code",
   "execution_count": null,
   "id": "740b32b1-ad72-4ee2-aded-c4a92cdc8190",
   "metadata": {},
   "outputs": [],
   "source": []
  }
 ],
 "metadata": {
  "kernelspec": {
   "display_name": "Python 3 (ipykernel)",
   "language": "python",
   "name": "python3"
  },
  "language_info": {
   "codemirror_mode": {
    "name": "ipython",
    "version": 3
   },
   "file_extension": ".py",
   "mimetype": "text/x-python",
   "name": "python",
   "nbconvert_exporter": "python",
   "pygments_lexer": "ipython3",
   "version": "3.12.3"
  }
 },
 "nbformat": 4,
 "nbformat_minor": 5
}
