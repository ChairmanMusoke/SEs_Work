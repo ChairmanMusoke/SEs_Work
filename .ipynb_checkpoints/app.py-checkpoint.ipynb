{
 "cells": [
  {
   "cell_type": "code",
   "execution_count": 1,
   "id": "a7b98151-3519-4631-8128-2a6b257f636f",
   "metadata": {
    "tags": []
   },
   "outputs": [],
   "source": [
    "import pandas as pd\n",
    "import numpy as np\n",
    "from openpyxl import Workbook as wb"
   ]
  },
  {
   "cell_type": "code",
   "execution_count": 2,
   "id": "8104a97d-4dc7-4168-917d-4607de479a69",
   "metadata": {
    "tags": []
   },
   "outputs": [],
   "source": [
    "df = pd.read_excel('data/Conclusions(1).xlsx', engine='openpyxl')"
   ]
  },
  {
   "cell_type": "code",
   "execution_count": 4,
   "id": "875e5cc2-a4d4-4193-9fbb-4c785bc45a2b",
   "metadata": {
    "tags": []
   },
   "outputs": [],
   "source": [
    "import streamlit as st\n",
    "import pandas as pd\n"
   ]
  },
  {
   "cell_type": "code",
   "execution_count": 5,
   "id": "4bc8541c-5493-46a2-90b3-38322131bc6f",
   "metadata": {
    "tags": []
   },
   "outputs": [],
   "source": [
    "def load_data(file):\n",
    "    df = pd.read_excel(file, engine='openpyxl')\n",
    "    return df"
   ]
  },
  {
   "cell_type": "code",
   "execution_count": 6,
   "id": "024caf03-7505-45f4-bd85-148aada60453",
   "metadata": {
    "tags": []
   },
   "outputs": [],
   "source": [
    "def main():\n",
    "    st.title(\"Village Data Summary App\")"
   ]
  },
  {
   "cell_type": "code",
   "execution_count": 13,
   "id": "7f4e63b2-2b15-4f71-a05e-ca5630796fa4",
   "metadata": {
    "tags": []
   },
   "outputs": [],
   "source": [
    "    uploaded_file = st.file_uploader(\"Choose an Excel file\", type=\"xlsx\")\n",
    "    if uploaded_file is not None:\n",
    "        df = load_data(uploaded_file)\n",
    "        st.sidebar.header(\"Filter options\")\n",
    "\n",
    "        districts = df['District'].unique()\n",
    "        selected_district = st.sidebar.selectbox(\"Select District\", districts)\n",
    "\n",
    "        clusters = df[df['District'] == selected_district]['Cluster'].unique()\n",
    "        selected_cluster = st.sidebar.selectbox(\"Select Cluster\", clusters)\n",
    "\n",
    "        villages = df[(df['District'] == selected_district) & (df['Cluster'] == selected_cluster)]['Village'].unique()\n",
    "        selected_village = st.sidebar.selectbox(\"Select Village\", villages)\n",
    "        filtered_data = df[(df['District'] == selected_district) & \n",
    "                           (df['Cluster'] == selected_cluster) & \n",
    "                           (df['Village'] == selected_village)]\n",
    "        st.write(\"Filtered Data\", filtered_data)\n",
    "        st.write(\"Summary Statistics\")\n",
    "        st.write(filtered_data.describe())\n",
    "\n"
   ]
  },
  {
   "cell_type": "code",
   "execution_count": 14,
   "id": "1f34e506-5506-4e44-a305-e184d372d10a",
   "metadata": {
    "tags": []
   },
   "outputs": [],
   "source": [
    "if __name__ == \"__main__\":\n",
    "    main()"
   ]
  },
  {
   "cell_type": "code",
   "execution_count": 17,
   "id": "7cac401d-ffe5-41ca-aba0-196ffbd11abb",
   "metadata": {
    "tags": []
   },
   "outputs": [
    {
     "name": "stdout",
     "output_type": "stream",
     "text": [
      "Usage: streamlit run [OPTIONS] TARGET [ARGS]...\n",
      "Try 'streamlit run --help' for help.\n",
      "\n",
      "Error: Invalid value: File does not exist: app.py\n"
     ]
    }
   ],
   "source": [
    "!streamlit run app.py\n"
   ]
  },
  {
   "cell_type": "code",
   "execution_count": null,
   "id": "04d89d24-fbc9-41e2-96e0-e15dc1310a76",
   "metadata": {},
   "outputs": [],
   "source": []
  }
 ],
 "metadata": {
  "kernelspec": {
   "display_name": "Python 3 (ipykernel)",
   "language": "python",
   "name": "python3"
  },
  "language_info": {
   "codemirror_mode": {
    "name": "ipython",
    "version": 3
   },
   "file_extension": ".py",
   "mimetype": "text/x-python",
   "name": "python",
   "nbconvert_exporter": "python",
   "pygments_lexer": "ipython3",
   "version": "3.12.3"
  }
 },
 "nbformat": 4,
 "nbformat_minor": 5
}
