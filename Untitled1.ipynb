{
 "cells": [
  {
   "cell_type": "code",
   "execution_count": 6,
   "id": "9abcdd18-593c-469e-b5c0-55cb4d43de85",
   "metadata": {},
   "outputs": [
    {
     "name": "stdin",
     "output_type": "stream",
     "text": [
      "What is your name?  Anita\n",
      "How old are you?  23\n"
     ]
    },
    {
     "name": "stdout",
     "output_type": "stream",
     "text": [
      "Anita, you will be 69 years older than your present self.\n"
     ]
    }
   ],
   "source": [
    "def main():\n",
    "    # Ask for the user's name\n",
    "    name = input(\"What is your name? \")\n",
    "    \n",
    "    # Ask for the user's age and convert it to an integer\n",
    "    age = int(input(\"How old are you? \"))\n",
    "    \n",
    "    # Multiply the age by 3\n",
    "    future_age = age * 3\n",
    "    \n",
    "    # Print the result\n",
    "    print(f\"{name}, you will be {future_age} years older than your present self.\")\n",
    "\n",
    "# Call the main function to execute the program\n",
    "if __name__ == \"__main__\":\n",
    "    main()"
   ]
  },
  {
   "cell_type": "code",
   "execution_count": 7,
   "id": "4ca65984-763b-4dbe-85db-4cb664c1cbf4",
   "metadata": {},
   "outputs": [
    {
     "data": {
      "text/plain": [
       "1838900"
      ]
     },
     "execution_count": 7,
     "metadata": {},
     "output_type": "execute_result"
    }
   ],
   "source": []
  },
  {
   "cell_type": "code",
   "execution_count": null,
   "id": "20ae769f-26b1-4ee9-bed6-7af05d853048",
   "metadata": {},
   "outputs": [],
   "source": []
  },
  {
   "cell_type": "code",
   "execution_count": null,
   "id": "f918dabd-38f1-447e-9ed5-f5bf1c05d6d4",
   "metadata": {},
   "outputs": [],
   "source": []
  },
  {
   "cell_type": "code",
   "execution_count": null,
   "id": "ff148302-e8fd-4d62-9e10-20044d770080",
   "metadata": {},
   "outputs": [],
   "source": []
  }
 ],
 "metadata": {
  "kernelspec": {
   "display_name": "Python 3 (ipykernel)",
   "language": "python",
   "name": "python3"
  },
  "language_info": {
   "codemirror_mode": {
    "name": "ipython",
    "version": 3
   },
   "file_extension": ".py",
   "mimetype": "text/x-python",
   "name": "python",
   "nbconvert_exporter": "python",
   "pygments_lexer": "ipython3",
   "version": "3.12.3"
  }
 },
 "nbformat": 4,
 "nbformat_minor": 5
}
