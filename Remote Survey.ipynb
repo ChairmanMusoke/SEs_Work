{
 "cells": [
  {
   "cell_type": "code",
   "execution_count": 1,
   "id": "6e744fd5-3cb7-4992-83d1-413ca7880c1a",
   "metadata": {
    "tags": []
   },
   "outputs": [],
   "source": [
    "import pandas as pd"
   ]
  },
  {
   "cell_type": "code",
   "execution_count": 2,
   "id": "6359b6d1-7262-4541-85c0-400969c22ca1",
   "metadata": {
    "tags": []
   },
   "outputs": [],
   "source": [
    "BackCheck = pd.read_csv(\"/Users/rtv-lpt-129/Downloads/Day13upload.csv\", encoding='ISO-8859-1', low_memory=False)\n"
   ]
  },
  {
   "cell_type": "code",
   "execution_count": 3,
   "id": "a105d4bc-6a2e-44c8-9a72-19183d473654",
   "metadata": {
    "tags": []
   },
   "outputs": [],
   "source": [
    "Status = BackCheck[(BackCheck['status'] == 1) | (BackCheck['status'] == 7)].copy()"
   ]
  },
  {
   "cell_type": "code",
   "execution_count": null,
   "id": "712bb387-77b7-4122-90aa-b0a164253375",
   "metadata": {
    "tags": []
   },
   "outputs": [],
   "source": []
  },
  {
   "cell_type": "code",
   "execution_count": 4,
   "id": "6e89ea3a-ca4f-4dfc-8280-04c0d44dff7f",
   "metadata": {
    "tags": []
   },
   "outputs": [],
   "source": [
    "Consent1 = Status[Status['consent_1'] == 1].copy()"
   ]
  },
  {
   "cell_type": "code",
   "execution_count": 5,
   "id": "2c0b50fa-419a-4fc5-9ac1-4da2b1981c2b",
   "metadata": {
    "tags": []
   },
   "outputs": [],
   "source": [
    "Contact1 = Consent1[Consent1['contact_no'] != -99].copy()"
   ]
  },
  {
   "cell_type": "code",
   "execution_count": 6,
   "id": "7d83a226-3edc-4297-9830-bf3ac35d7aad",
   "metadata": {
    "tags": []
   },
   "outputs": [],
   "source": [
    "UploadList2 = Contact1[['sid_2', 'pre_district', 'pre_cluster', 'pre_village', 'pre_name', 'spouse_fullname', 'contact_no', 'alt_contact']]"
   ]
  },
  {
   "cell_type": "code",
   "execution_count": 7,
   "id": "528a5fbc-ab56-4b4b-8db0-8929b0b0d684",
   "metadata": {
    "tags": []
   },
   "outputs": [
    {
     "data": {
      "text/html": [
       "<div>\n",
       "<style scoped>\n",
       "    .dataframe tbody tr th:only-of-type {\n",
       "        vertical-align: middle;\n",
       "    }\n",
       "\n",
       "    .dataframe tbody tr th {\n",
       "        vertical-align: top;\n",
       "    }\n",
       "\n",
       "    .dataframe thead th {\n",
       "        text-align: right;\n",
       "    }\n",
       "</style>\n",
       "<table border=\"1\" class=\"dataframe\">\n",
       "  <thead>\n",
       "    <tr style=\"text-align: right;\">\n",
       "      <th></th>\n",
       "      <th>sid_2</th>\n",
       "      <th>pre_district</th>\n",
       "      <th>pre_cluster</th>\n",
       "      <th>pre_village</th>\n",
       "      <th>pre_name</th>\n",
       "      <th>spouse_fullname</th>\n",
       "      <th>contact_no</th>\n",
       "      <th>alt_contact</th>\n",
       "    </tr>\n",
       "  </thead>\n",
       "  <tbody>\n",
       "    <tr>\n",
       "      <th>0</th>\n",
       "      <td>MBO-GE60837</td>\n",
       "      <td>Rubirizi</td>\n",
       "      <td>Kikumbo</td>\n",
       "      <td>Ntunga_A</td>\n",
       "      <td>Getrinda Biribikeba</td>\n",
       "      <td>NaN</td>\n",
       "      <td>778349381.0</td>\n",
       "      <td>NaN</td>\n",
       "    </tr>\n",
       "    <tr>\n",
       "      <th>1</th>\n",
       "      <td>MBO-MA62866</td>\n",
       "      <td>Rubirizi</td>\n",
       "      <td>Kikumbo</td>\n",
       "      <td>Ntunga_A</td>\n",
       "      <td>Mantilda Koburunga</td>\n",
       "      <td>NaN</td>\n",
       "      <td>761675431.0</td>\n",
       "      <td>NaN</td>\n",
       "    </tr>\n",
       "    <tr>\n",
       "      <th>4</th>\n",
       "      <td>RBU-OW91478</td>\n",
       "      <td>Rubanda</td>\n",
       "      <td>Igomanda</td>\n",
       "      <td>Rwarujongo</td>\n",
       "      <td>Owen Niwagaba</td>\n",
       "      <td>Tumushabe Roy</td>\n",
       "      <td>709977526.0</td>\n",
       "      <td>704254809.0</td>\n",
       "    </tr>\n",
       "    <tr>\n",
       "      <th>5</th>\n",
       "      <td>SWMT-MU6512</td>\n",
       "      <td>Kanungu</td>\n",
       "      <td>Bushura</td>\n",
       "      <td>Mugongo</td>\n",
       "      <td>Mubangizi Ezera</td>\n",
       "      <td>Christine  Nuwamanya</td>\n",
       "      <td>771839077.0</td>\n",
       "      <td>NaN</td>\n",
       "    </tr>\n",
       "    <tr>\n",
       "      <th>6</th>\n",
       "      <td>RBU-FR37137</td>\n",
       "      <td>Rubanda</td>\n",
       "      <td>Igomanda</td>\n",
       "      <td>Rwarujongo</td>\n",
       "      <td>fred Byomunbande</td>\n",
       "      <td>Tumuramye Moreen</td>\n",
       "      <td>743325661.0</td>\n",
       "      <td>NaN</td>\n",
       "    </tr>\n",
       "  </tbody>\n",
       "</table>\n",
       "</div>"
      ],
      "text/plain": [
       "         sid_2 pre_district pre_cluster pre_village             pre_name  \\\n",
       "0  MBO-GE60837     Rubirizi     Kikumbo    Ntunga_A  Getrinda Biribikeba   \n",
       "1  MBO-MA62866     Rubirizi     Kikumbo    Ntunga_A   Mantilda Koburunga   \n",
       "4  RBU-OW91478      Rubanda    Igomanda  Rwarujongo        Owen Niwagaba   \n",
       "5  SWMT-MU6512      Kanungu     Bushura     Mugongo      Mubangizi Ezera   \n",
       "6  RBU-FR37137      Rubanda    Igomanda  Rwarujongo     fred Byomunbande   \n",
       "\n",
       "        spouse_fullname   contact_no  alt_contact  \n",
       "0                   NaN  778349381.0          NaN  \n",
       "1                   NaN  761675431.0          NaN  \n",
       "4         Tumushabe Roy  709977526.0  704254809.0  \n",
       "5  Christine  Nuwamanya  771839077.0          NaN  \n",
       "6      Tumuramye Moreen  743325661.0          NaN  "
      ]
     },
     "execution_count": 7,
     "metadata": {},
     "output_type": "execute_result"
    }
   ],
   "source": [
    "UploadList2.head()"
   ]
  },
  {
   "cell_type": "code",
   "execution_count": 8,
   "id": "eff3d7aa-9cd4-44c8-810a-f0b48e3817c1",
   "metadata": {},
   "outputs": [],
   "source": [
    "UploadList2.to_excel('Day13.xlsx', index = False)"
   ]
  },
  {
   "cell_type": "code",
   "execution_count": null,
   "id": "42b416b5-9e89-4d40-9c7e-32f7120e71b8",
   "metadata": {},
   "outputs": [],
   "source": []
  }
 ],
 "metadata": {
  "kernelspec": {
   "display_name": "Python 3 (ipykernel)",
   "language": "python",
   "name": "python3"
  },
  "language_info": {
   "codemirror_mode": {
    "name": "ipython",
    "version": 3
   },
   "file_extension": ".py",
   "mimetype": "text/x-python",
   "name": "python",
   "nbconvert_exporter": "python",
   "pygments_lexer": "ipython3",
   "version": "3.12.3"
  }
 },
 "nbformat": 4,
 "nbformat_minor": 5
}
