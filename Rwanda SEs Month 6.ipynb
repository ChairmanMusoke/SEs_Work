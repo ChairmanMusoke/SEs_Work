{
 "cells": [
  {
   "cell_type": "code",
   "execution_count": 1,
   "id": "7b506325-594c-4094-9738-167500846150",
   "metadata": {
    "tags": []
   },
   "outputs": [],
   "source": [
    "import pandas as pd\n",
    "import numpy as np\n",
    "from openpyxl import Workbook as wb"
   ]
  },
  {
   "cell_type": "code",
   "execution_count": 2,
   "id": "af09f0a3-050b-412c-abf4-91f5e3b2334e",
   "metadata": {
    "tags": []
   },
   "outputs": [],
   "source": [
    "July_SEs_RW = pd.read_csv(\"data/PEAL - Standards Evaluation - July 2024_Rwanda.csv\", encoding='cp1252', low_memory=False)"
   ]
  },
  {
   "cell_type": "code",
   "execution_count": 3,
   "id": "6f9750e2-d972-4b2a-9f39-fb94ed33f1e4",
   "metadata": {
    "tags": []
   },
   "outputs": [
    {
     "data": {
      "text/html": [
       "<div>\n",
       "<style scoped>\n",
       "    .dataframe tbody tr th:only-of-type {\n",
       "        vertical-align: middle;\n",
       "    }\n",
       "\n",
       "    .dataframe tbody tr th {\n",
       "        vertical-align: top;\n",
       "    }\n",
       "\n",
       "    .dataframe thead th {\n",
       "        text-align: right;\n",
       "    }\n",
       "</style>\n",
       "<table border=\"1\" class=\"dataframe\">\n",
       "  <thead>\n",
       "    <tr style=\"text-align: right;\">\n",
       "      <th></th>\n",
       "      <th>SubmissionDate</th>\n",
       "      <th>starttime</th>\n",
       "      <th>endtime</th>\n",
       "      <th>text_audit</th>\n",
       "      <th>ev_date</th>\n",
       "      <th>contractor_name</th>\n",
       "      <th>cluster_t</th>\n",
       "      <th>village_t</th>\n",
       "      <th>standards_report</th>\n",
       "      <th>hhid</th>\n",
       "      <th>...</th>\n",
       "      <th>farm_pract_seen_nurs</th>\n",
       "      <th>liquid_manure_nursery</th>\n",
       "      <th>organic_pesticides_nursery</th>\n",
       "      <th>nursery_watered</th>\n",
       "      <th>veg_varieties_planted_in_nursery</th>\n",
       "      <th>village_instance</th>\n",
       "      <th>instanceID</th>\n",
       "      <th>instanceName</th>\n",
       "      <th>formdef_version</th>\n",
       "      <th>KEY</th>\n",
       "    </tr>\n",
       "  </thead>\n",
       "  <tbody>\n",
       "    <tr>\n",
       "      <th>0</th>\n",
       "      <td>22/07/2024 18:10</td>\n",
       "      <td>21/07/2024 10:26</td>\n",
       "      <td>21/07/2024 10:47</td>\n",
       "      <td>https://rtvuganda.surveycto.com/view/submissio...</td>\n",
       "      <td>21/07/2024</td>\n",
       "      <td>Manirakiza Fred</td>\n",
       "      <td>Mwiyanike</td>\n",
       "      <td>Gitebe</td>\n",
       "      <td>Household</td>\n",
       "      <td>RW-NYA-GIT-AUG-M-140650</td>\n",
       "      <td>...</td>\n",
       "      <td>NaN</td>\n",
       "      <td>NaN</td>\n",
       "      <td>NaN</td>\n",
       "      <td>NaN</td>\n",
       "      <td>NaN</td>\n",
       "      <td>Gitebe</td>\n",
       "      <td>uuid:2899f971-2d5a-43c6-9f2a-67d126ea2ed0</td>\n",
       "      <td>Household : Gitebe</td>\n",
       "      <td>2407212132</td>\n",
       "      <td>uuid:2899f971-2d5a-43c6-9f2a-67d126ea2ed0</td>\n",
       "    </tr>\n",
       "  </tbody>\n",
       "</table>\n",
       "<p>1 rows × 479 columns</p>\n",
       "</div>"
      ],
      "text/plain": [
       "     SubmissionDate         starttime           endtime  \\\n",
       "0  22/07/2024 18:10  21/07/2024 10:26  21/07/2024 10:47   \n",
       "\n",
       "                                          text_audit     ev_date  \\\n",
       "0  https://rtvuganda.surveycto.com/view/submissio...  21/07/2024   \n",
       "\n",
       "   contractor_name  cluster_t village_t standards_report  \\\n",
       "0  Manirakiza Fred  Mwiyanike    Gitebe        Household   \n",
       "\n",
       "                      hhid  ...  farm_pract_seen_nurs  liquid_manure_nursery  \\\n",
       "0  RW-NYA-GIT-AUG-M-140650  ...                   NaN                    NaN   \n",
       "\n",
       "   organic_pesticides_nursery  nursery_watered  \\\n",
       "0                         NaN              NaN   \n",
       "\n",
       "  veg_varieties_planted_in_nursery  village_instance  \\\n",
       "0                              NaN            Gitebe   \n",
       "\n",
       "                                  instanceID        instanceName  \\\n",
       "0  uuid:2899f971-2d5a-43c6-9f2a-67d126ea2ed0  Household : Gitebe   \n",
       "\n",
       "   formdef_version                                        KEY  \n",
       "0       2407212132  uuid:2899f971-2d5a-43c6-9f2a-67d126ea2ed0  \n",
       "\n",
       "[1 rows x 479 columns]"
      ]
     },
     "execution_count": 3,
     "metadata": {},
     "output_type": "execute_result"
    }
   ],
   "source": [
    "July_SEs_RW.head(1)"
   ]
  },
  {
   "cell_type": "code",
   "execution_count": 4,
   "id": "749478f1-acfd-4c38-9675-d84958fb4bc4",
   "metadata": {
    "tags": []
   },
   "outputs": [],
   "source": [
    "HHLevel =July_SEs_RW[July_SEs_RW['standards_report'] == 'Household'].copy()"
   ]
  },
  {
   "cell_type": "code",
   "execution_count": 5,
   "id": "8201859a-f90b-44c5-b27a-82a48c6f4710",
   "metadata": {
    "tags": []
   },
   "outputs": [],
   "source": [
    "HHLevel['Water control Practice'] = np.where(HHLevel['water_mgt_methods_num'] > 0, 1,0)\n",
    "HHLevel['Soil Management Practice'] = np.where(HHLevel['soil_mgt_methods_num'] > 1, 1,0)\n",
    "HHLevel['KAP Livestock'] = np.where(HHLevel['kap_livestock_num'] > 3, 1,0)\n",
    "HHLevel['KAP Agriculture'] = np.where(HHLevel['kap_farm_practices_num'] > 3, 1,0)\n",
    "HHLevel['3 Composts'] = np.where(HHLevel['composts_num'] > 2, 1,0)\n",
    "HHLevel['Vegetable gardening Practices'] = np.where(HHLevel['vegetable_farm_mode_num'] > 0, 1,0)"
   ]
  },
  {
   "cell_type": "code",
   "execution_count": 6,
   "id": "59816ac3-4cf0-435e-af5b-5a0e90dc4dd8",
   "metadata": {
    "tags": []
   },
   "outputs": [
    {
     "data": {
      "text/html": [
       "<div>\n",
       "<style scoped>\n",
       "    .dataframe tbody tr th:only-of-type {\n",
       "        vertical-align: middle;\n",
       "    }\n",
       "\n",
       "    .dataframe tbody tr th {\n",
       "        vertical-align: top;\n",
       "    }\n",
       "\n",
       "    .dataframe thead th {\n",
       "        text-align: right;\n",
       "    }\n",
       "</style>\n",
       "<table border=\"1\" class=\"dataframe\">\n",
       "  <thead>\n",
       "    <tr style=\"text-align: right;\">\n",
       "      <th></th>\n",
       "      <th>Water control Practice</th>\n",
       "      <th>Soil Management Practice</th>\n",
       "      <th>Vegetable gardening Practices</th>\n",
       "      <th>KAP Livestock</th>\n",
       "      <th>KAP Agriculture</th>\n",
       "      <th>3 Composts</th>\n",
       "    </tr>\n",
       "  </thead>\n",
       "  <tbody>\n",
       "    <tr>\n",
       "      <th>0</th>\n",
       "      <td>1</td>\n",
       "      <td>1</td>\n",
       "      <td>1</td>\n",
       "      <td>0</td>\n",
       "      <td>1</td>\n",
       "      <td>0</td>\n",
       "    </tr>\n",
       "  </tbody>\n",
       "</table>\n",
       "</div>"
      ],
      "text/plain": [
       "   Water control Practice  Soil Management Practice  \\\n",
       "0                       1                         1   \n",
       "\n",
       "   Vegetable gardening Practices  KAP Livestock  KAP Agriculture  3 Composts  \n",
       "0                              1              0                1           0  "
      ]
     },
     "execution_count": 6,
     "metadata": {},
     "output_type": "execute_result"
    }
   ],
   "source": [
    "HHLevel[['Water control Practice', 'Soil Management Practice', \n",
    "     'Vegetable gardening Practices', 'KAP Livestock', 'KAP Agriculture', '3 Composts']].head(1)"
   ]
  },
  {
   "cell_type": "code",
   "execution_count": 7,
   "id": "672f6361-a20c-458a-850c-fd586037bfcc",
   "metadata": {
    "tags": []
   },
   "outputs": [],
   "source": [
    "HHLevel['Compost Compliance'] =  HHLevel[['compost_heap_base', 'compost_standard_size', 'windrow_size_dimension',\n",
    "                                  'heap_covered', 'compost_demarcated', 'forms_non_bio', \n",
    "                                          'composts_watered_regularly', 'composts_manure_usuage']].mean(axis = 1)"
   ]
  },
  {
   "cell_type": "code",
   "execution_count": 8,
   "id": "99a67456-dd46-445c-ad81-1de9631c953e",
   "metadata": {
    "tags": []
   },
   "outputs": [],
   "source": [
    "HHLevel['Drying Method Num'] = HHLevel[['drying_method_1','drying_method_2',\n",
    "                                    'drying_method_3']].sum(axis = 1)"
   ]
  },
  {
   "cell_type": "code",
   "execution_count": 9,
   "id": "d77a7f20-b5d3-4580-b6d5-65e845db1c98",
   "metadata": {
    "tags": []
   },
   "outputs": [],
   "source": [
    "HHLevel['Drying Method'] = np.where(HHLevel['Drying Method Num'] > 1,1,0)"
   ]
  },
  {
   "cell_type": "code",
   "execution_count": 10,
   "id": "c2360968-f7cf-4db0-bd6e-5df9857cf4bc",
   "metadata": {
    "tags": []
   },
   "outputs": [],
   "source": [
    "HHLevel['Post harvest handling'] = HHLevel[['Drying Method', 'sorting_grading_done', \n",
    "                                     'post_harvest_sys_present']].mean(axis = 1)"
   ]
  },
  {
   "cell_type": "code",
   "execution_count": 11,
   "id": "fb538200-d50b-4e66-b1e2-75e494130fb2",
   "metadata": {
    "tags": []
   },
   "outputs": [],
   "source": [
    "HHLevel['Agric Compliance'] = HHLevel[['Compost Compliance', 'Post harvest handling', 'Water control Practice',\n",
    "                               'Soil Management Practice', 'Vegetable gardening Practices', \n",
    "                               'organic_manure_received']].mean(axis = 1)"
   ]
  },
  {
   "cell_type": "code",
   "execution_count": 12,
   "id": "e6a7c0c7-8dd7-48e5-9a5a-83f4516ab151",
   "metadata": {
    "tags": []
   },
   "outputs": [],
   "source": [
    "WASH = ['latrine_present', 'latrine_cover_present', 'latrine_floor_sealed',\n",
    "                              'latrine_door_present', 'latrine_walls_sealed', 'latrine_roofleak_proof',\n",
    "                              'latrine_environ_free_debris', 'latri_environ_free_feaces', 'tippy_tap_present',\n",
    "                              'tippy_fill_water', 'soap_ash_present', 'tippy_tap_wet_area', 'cloth_hangline',\n",
    "                              'kitchen_present', 'kitchen_ventilated', 'kitchen_clean', 'bathroom_present',\n",
    "                              'bath_drainage_present', 'bathroom_clean', 'compound_clean', 'double_dishrack',\n",
    "                              'non_bio_waste_properly_sorted']"
   ]
  },
  {
   "cell_type": "code",
   "execution_count": 13,
   "id": "302a12fc-313d-4fdc-b4c4-53f944bc4a65",
   "metadata": {
    "tags": []
   },
   "outputs": [],
   "source": [
    "HHLevel[WASH] = HHLevel[WASH].apply(pd.to_numeric, errors='coerce')"
   ]
  },
  {
   "cell_type": "code",
   "execution_count": 14,
   "id": "79957e92-a3fd-478a-afbd-073be86563fa",
   "metadata": {
    "tags": []
   },
   "outputs": [],
   "source": [
    "HHLevel['WASH Compliance'] = HHLevel[WASH].mean(axis = 1)"
   ]
  },
  {
   "cell_type": "code",
   "execution_count": 15,
   "id": "5ba8f25d-fc76-48bf-b04c-807d5178c0fc",
   "metadata": {
    "tags": []
   },
   "outputs": [],
   "source": [
    "Livestock = ['gs_pen_constr', 'gs_pen_constr', 'gs_droppings_composted', \n",
    "             'pg_sty_constr', 'pg_sty_clean', 'pg_droppings_composted',\n",
    "            'cow_kraal_constr', 'kraal_clean', 'cow_droppings_composted']"
   ]
  },
  {
   "cell_type": "code",
   "execution_count": 16,
   "id": "4cc5cbee-9b6a-430b-b98f-caa6423497c2",
   "metadata": {
    "tags": []
   },
   "outputs": [],
   "source": [
    "HHLevel['Livestock Compliance'] = HHLevel[Livestock].mean(axis = 1)"
   ]
  },
  {
   "cell_type": "code",
   "execution_count": 17,
   "id": "29b9fa31-ab2b-4971-8fa4-f36bff208f36",
   "metadata": {
    "tags": []
   },
   "outputs": [],
   "source": [
    "HHLevel['Overall Compliance'] = HHLevel[['Agric Compliance', 'WASH Compliance', \n",
    "                                 'Livestock Compliance', 'vlsa_membership']].mean(axis = 1)"
   ]
  },
  {
   "cell_type": "code",
   "execution_count": 18,
   "id": "64f80dc0-7afc-4d4f-beb3-811fe31cb912",
   "metadata": {
    "tags": []
   },
   "outputs": [],
   "source": [
    "HHLevel['NPS Classified'] = np.where(HHLevel['overall_nps'] < 70, 'Detractor', \n",
    "                                 np.where(HHLevel['overall_nps'] > 80, 'Promoter','Passive'))"
   ]
  },
  {
   "cell_type": "code",
   "execution_count": 19,
   "id": "4bcda31e-a882-4f47-b905-a6fef3ab05c2",
   "metadata": {
    "tags": []
   },
   "outputs": [],
   "source": [
    "Village_NPS = HHLevel.groupby(['district_1', 'cluster_t', 'village_t'])['NPS Classified'].value_counts().unstack(fill_value=0)\n",
    "\n",
    "Village_NPS['Total'] = Village_NPS.sum(axis=1)\n",
    "\n",
    "Village_NPS['Detractors(%)'] = (Village_NPS['Detractor'] / Village_NPS['Total']) * 100\n",
    "Village_NPS['Passives(%)'] = (Village_NPS['Passive'] / Village_NPS['Total']) * 100\n",
    "Village_NPS['Promoters(%)'] = (Village_NPS['Promoter'] / Village_NPS['Total']) * 100\n",
    "\n",
    "Village_NPS['Overall NPS (%)'] = Village_NPS['Promoters(%)'] - Village_NPS['Detractors(%)']\n",
    "\n",
    "Village_NPS = Village_NPS.reset_index()[\n",
    "    ['district_1', 'cluster_t', 'village_t', 'Detractors(%)', 'Passives(%)', 'Promoters(%)', 'Overall NPS (%)']\n",
    "]\n",
    "Village_NPS.to_excel('RWVillage_NPS.xlsx', index=False)"
   ]
  },
  {
   "cell_type": "code",
   "execution_count": 20,
   "id": "4289f4c8-217f-4e75-89ff-6f9e169b90e6",
   "metadata": {
    "tags": []
   },
   "outputs": [],
   "source": [
    "Cluster_NPS = HHLevel.groupby(['district_1', 'cluster_t'])['NPS Classified'].value_counts().unstack(fill_value=0)\n",
    "\n",
    "Cluster_NPS ['Total'] = Cluster_NPS .sum(axis=1)\n",
    "\n",
    "Cluster_NPS ['Detractors(%)'] = (Cluster_NPS ['Detractor'] / Cluster_NPS ['Total']) * 100\n",
    "Cluster_NPS ['Passives(%)'] = (Cluster_NPS ['Passive'] / Cluster_NPS ['Total']) * 100\n",
    "Cluster_NPS ['Promoters(%)'] = (Cluster_NPS ['Promoter'] / Cluster_NPS ['Total']) * 100\n",
    "\n",
    "Cluster_NPS ['Overall NPS (%)'] = Cluster_NPS ['Promoters(%)'] - Cluster_NPS ['Detractors(%)']\n",
    "\n",
    "Cluster_NPS  = Cluster_NPS .reset_index()[\n",
    "    ['district_1', 'cluster_t', 'Detractors(%)', 'Passives(%)', 'Promoters(%)', 'Overall NPS (%)']\n",
    "]\n",
    "\n",
    "Cluster_NPS .to_excel('RWNPSCluster.xlsx', index=False)"
   ]
  },
  {
   "cell_type": "code",
   "execution_count": 21,
   "id": "dc533eb7-42de-48fa-80b1-ef0f31ef2ab9",
   "metadata": {
    "tags": []
   },
   "outputs": [],
   "source": [
    "HHLevel['VSLACommitte'] = np.where(HHLevel['vsla_committee_satification_sc'] < 70, 'Detractor', \n",
    "                                 np.where(HHLevel['vsla_committee_satification_sc'] > 80, 'Promoter','Passive'))"
   ]
  },
  {
   "cell_type": "code",
   "execution_count": 22,
   "id": "b73e8fd9-1400-4dd0-92ce-b0ad9e2866ca",
   "metadata": {
    "tags": []
   },
   "outputs": [],
   "source": [
    "NPS_table = HHLevel.groupby(['district_1', 'cluster_t', 'village_t'])['VSLACommitte'].value_counts().unstack(fill_value=0)\n",
    "\n",
    "# Add a total count column\n",
    "NPS_table['Total'] = NPS_table.sum(axis=1)\n",
    "\n",
    "# Calculate percentages for each category, handling missing columns gracefully\n",
    "NPS_table['Detractors(%)'] = (NPS_table.get('Detractor', 0) / NPS_table['Total']) * 100\n",
    "NPS_table['Passives(%)'] = (NPS_table.get('Passive', 0) / NPS_table['Total']) * 100\n",
    "NPS_table['Promoters(%)'] = (NPS_table.get('Promoter', 0) / NPS_table['Total']) * 100"
   ]
  },
  {
   "cell_type": "code",
   "execution_count": 23,
   "id": "d8a6776b-c331-44a9-a2e7-c93127e4a6b8",
   "metadata": {
    "tags": []
   },
   "outputs": [],
   "source": [
    "HHLevel['Agric Champions'] = np.where(HHLevel[ 'agric_champion_score'] < 7, 'Detractor', \n",
    "                                 np.where(HHLevel[ 'agric_champion_score'] > 8, 'Promoter','Passive'))"
   ]
  },
  {
   "cell_type": "code",
   "execution_count": 24,
   "id": "0581d9cd-e140-4131-bdcf-c7cf020fce3e",
   "metadata": {
    "tags": []
   },
   "outputs": [],
   "source": [
    "NPS_table = HHLevel.groupby(['district_1', 'cluster_t', 'village_t'])['Agric Champions'].value_counts().unstack(fill_value=0)\n",
    "\n",
    "NPS_table['Total'] = NPS_table.sum(axis=1)\n",
    "\n",
    "NPS_table['Detractors(%)'] = (NPS_table.get('Detractor', 0) / NPS_table['Total']) * 100\n",
    "NPS_table['Passives(%)'] = (NPS_table.get('Passive', 0) / NPS_table['Total']) * 100\n",
    "NPS_table['Promoters(%)'] = (NPS_table.get('Promoter', 0) / NPS_table['Total']) * 100\n"
   ]
  },
  {
   "cell_type": "code",
   "execution_count": 25,
   "id": "42112716-d966-4df3-b01e-5c48c368174b",
   "metadata": {
    "tags": []
   },
   "outputs": [],
   "source": [
    "HHLevel['WASH Champions'] = np.where(HHLevel['wash_champion_score'] < 7, 'Detractor', \n",
    "                                 np.where(HHLevel['wash_champion_score'] > 8, 'Promoter','Passive'))"
   ]
  },
  {
   "cell_type": "code",
   "execution_count": 26,
   "id": "e5e32ad6-3a2f-49e9-a9e5-d5fa89899d17",
   "metadata": {
    "tags": []
   },
   "outputs": [],
   "source": [
    "NPS_table = HHLevel.groupby(['district_1', 'cluster_t', 'village_t'])['WASH Champions'].value_counts().unstack(fill_value=0)\n",
    "\n",
    "NPS_table['Total'] = NPS_table.sum(axis=1)\n",
    "\n",
    "NPS_table['Detractors(%)'] = (NPS_table.get('Detractor', 0) / NPS_table['Total']) * 100\n",
    "NPS_table['Passives(%)'] = (NPS_table.get('Passive', 0) / NPS_table['Total']) * 100\n",
    "NPS_table['Promoters(%)'] = (NPS_table.get('Promoter', 0) / NPS_table['Total']) * 100"
   ]
  },
  {
   "cell_type": "code",
   "execution_count": 27,
   "id": "996fcb53-f310-4b8d-acbe-fb5cb3903cab",
   "metadata": {
    "tags": []
   },
   "outputs": [],
   "source": [
    "Village_Scores = HHLevel.groupby(['district_1',  'cluster_t',  'village_t', 'ev_month'])[['Overall Compliance', 'Agric Compliance', \n",
    "                                                                                          'WASH Compliance', \n",
    "                            'Livestock Compliance', 'vlsa_membership', 'Compost Compliance', 'compost_heap_base', \n",
    "                                'compost_standard_size', 'windrow_size_dimension',\n",
    "                                  'heap_covered', 'compost_demarcated', 'forms_non_bio', \n",
    "                                          'composts_watered_regularly', 'composts_manure_usuage', 'organic_manure_received', \n",
    "                            'Drying Method', 'sorting_grading_done', \n",
    "                                     'post_harvest_sys_present',\n",
    "                            'Post harvest handling', 'Water control Practice',\n",
    "                            'Soil Management Practice', 'Vegetable gardening Practices', \n",
    "                            'latrine_present', 'latrine_cover_present', 'latrine_floor_sealed',\n",
    "                              'latrine_door_present', 'latrine_walls_sealed', 'latrine_roofleak_proof',\n",
    "                              'latrine_environ_free_debris', 'latri_environ_free_feaces', 'tippy_tap_present',\n",
    "                              'tippy_fill_water', 'soap_ash_present', 'tippy_tap_wet_area', 'cloth_hangline',\n",
    "                              'kitchen_present', 'kitchen_ventilated', 'kitchen_clean', 'bathroom_present',\n",
    "                              'bath_drainage_present', 'bathroom_clean', 'compound_clean', 'double_dishrack',\n",
    "                              'non_bio_waste_properly_sorted', 'livestock_present_1', 'livestock_present_2', \n",
    "                              'gs_pen_constr', 'gs_pen_constr', 'gs_droppings_composted', 'livestock_present_3', \n",
    "                            'pg_sty_constr', 'pg_sty_clean', 'pg_droppings_composted', 'livestock_present_4', 'cow_kraal_constr', 'kraal_clean', \n",
    "                            'cow_droppings_composted', 'KAP Livestock', \n",
    "                            'KAP Agriculture']].mean(numeric_only = True).reset_index()\n",
    "Village_Scores = Village_Scores.sort_values(\n",
    "    by=['district_1', 'cluster_t', 'Overall Compliance'], \n",
    "    ascending=[True, True, False]\n",
    ")"
   ]
  },
  {
   "cell_type": "code",
   "execution_count": 28,
   "id": "78635750-f80f-4cb1-b96b-ac0d2b330490",
   "metadata": {
    "tags": []
   },
   "outputs": [],
   "source": [
    "Village_Scores.to_excel('Village_Scores.xlsx', index = False)"
   ]
  },
  {
   "cell_type": "code",
   "execution_count": 29,
   "id": "ccb17934-6bc3-4b54-aaef-01d5d0606b9b",
   "metadata": {
    "tags": []
   },
   "outputs": [],
   "source": [
    "Cluster_Scores = HHLevel.groupby(['district_1',  'cluster_t', 'ev_month'])[['Overall Compliance', 'Agric Compliance', \n",
    "                                                                                          'WASH Compliance', \n",
    "                            'Livestock Compliance', 'vlsa_membership', 'Compost Compliance', 'compost_heap_base', \n",
    "                                'compost_standard_size', 'windrow_size_dimension',\n",
    "                                  'heap_covered', 'compost_demarcated', 'forms_non_bio', \n",
    "                                          'composts_watered_regularly', 'composts_manure_usuage', 'organic_manure_received', \n",
    "                            'Drying Method', 'sorting_grading_done', \n",
    "                                     'post_harvest_sys_present',\n",
    "                            'Post harvest handling', 'Water control Practice',\n",
    "                            'Soil Management Practice', 'Vegetable gardening Practices', \n",
    "                            'latrine_present', 'latrine_cover_present', 'latrine_floor_sealed',\n",
    "                              'latrine_door_present', 'latrine_walls_sealed', 'latrine_roofleak_proof',\n",
    "                              'latrine_environ_free_debris', 'latri_environ_free_feaces', 'tippy_tap_present',\n",
    "                              'tippy_fill_water', 'soap_ash_present', 'tippy_tap_wet_area', 'cloth_hangline',\n",
    "                              'kitchen_present', 'kitchen_ventilated', 'kitchen_clean', 'bathroom_present',\n",
    "                              'bath_drainage_present', 'bathroom_clean', 'compound_clean', 'double_dishrack',\n",
    "                              'non_bio_waste_properly_sorted', 'livestock_present_1', 'livestock_present_2', \n",
    "                              'gs_pen_constr', 'gs_pen_constr', 'gs_droppings_composted', 'livestock_present_3', \n",
    "                            'pg_sty_constr', 'pg_sty_clean', 'pg_droppings_composted', 'livestock_present_4', 'cow_kraal_constr', 'kraal_clean', \n",
    "                            'cow_droppings_composted', 'KAP Livestock', \n",
    "                            'KAP Agriculture']].mean(numeric_only = True).reset_index()"
   ]
  },
  {
   "cell_type": "code",
   "execution_count": 30,
   "id": "7d1014b4-8866-4ce8-b14e-3e6d92c8e805",
   "metadata": {
    "tags": []
   },
   "outputs": [],
   "source": [
    "Cluster_Scores.to_excel('RWCluster_Scores.xlsx', index = False)"
   ]
  },
  {
   "cell_type": "code",
   "execution_count": 31,
   "id": "86f6bfd9-4d38-4c87-bc5c-199ac1fa93a0",
   "metadata": {
    "tags": []
   },
   "outputs": [
    {
     "name": "stderr",
     "output_type": "stream",
     "text": [
      "/var/folders/8v/g75zp59111n27nbw3_c9ypxh0000gn/T/ipykernel_92336/2332091296.py:1: FutureWarning: DataFrame.applymap has been deprecated. Use DataFrame.map instead.\n",
      "  Cluster_ScoresA = Cluster_Scores.applymap(lambda x: x * 100 if isinstance(x, (int, float)) else x)\n"
     ]
    }
   ],
   "source": [
    "Cluster_ScoresA = Cluster_Scores.applymap(lambda x: x * 100 if isinstance(x, (int, float)) else x)"
   ]
  },
  {
   "cell_type": "code",
   "execution_count": 32,
   "id": "82a75861-a74e-4133-8c51-bcbbe429d579",
   "metadata": {
    "tags": []
   },
   "outputs": [],
   "source": [
    "Cluster_ScoresA.to_excel('RWCluster_ScoresA.xlsx', index = False)"
   ]
  },
  {
   "cell_type": "code",
   "execution_count": 33,
   "id": "2d4f5418-0675-4c36-a10b-b6faed43432c",
   "metadata": {
    "tags": []
   },
   "outputs": [
    {
     "name": "stderr",
     "output_type": "stream",
     "text": [
      "/var/folders/8v/g75zp59111n27nbw3_c9ypxh0000gn/T/ipykernel_92336/3433828518.py:1: FutureWarning: DataFrame.applymap has been deprecated. Use DataFrame.map instead.\n",
      "  Village_ScoresA = Village_Scores.applymap(lambda x: x * 100 if isinstance(x, (int, float)) else x)\n"
     ]
    }
   ],
   "source": [
    "Village_ScoresA = Village_Scores.applymap(lambda x: x * 100 if isinstance(x, (int, float)) else x)"
   ]
  },
  {
   "cell_type": "code",
   "execution_count": 34,
   "id": "84777588-b506-47a4-bee1-4d1cd0464239",
   "metadata": {
    "tags": []
   },
   "outputs": [],
   "source": [
    "Village_ScoresA.to_excel('RWVillage_ScoresA.xlsx', index = False)"
   ]
  },
  {
   "cell_type": "code",
   "execution_count": 35,
   "id": "f1c8e671-ac78-4d47-89e9-e1b52d7a2292",
   "metadata": {
    "tags": []
   },
   "outputs": [],
   "source": [
    "Village_ScoresA.to_csv('RWVillage_ScoresA.csv', index = False)"
   ]
  },
  {
   "cell_type": "code",
   "execution_count": 36,
   "id": "0c801309-cd60-46f3-a26c-4658ef317cf7",
   "metadata": {
    "tags": []
   },
   "outputs": [],
   "source": [
    "def determine_conclusion(score):\n",
    "    if score < 70:\n",
    "        return \"Off-Track - Issue of Missing Program Targets\"\n",
    "    elif 70 <= score <= 79:\n",
    "        return \"At Risk - Below Program Targets with Major Areas to Address\"\n",
    "    elif 80 <= score <= 89:\n",
    "        return \"On Track - Near Program Targets with Minor Areas to Address\"\n",
    "    else:\n",
    "        return \"On Track - Meet or Exceed Program Targets\"\n",
    "\n",
    "# Apply the function to the \"Overall score\" column to create a new \"Conclusions\" column\n",
    "Village_ScoresA['Overall Compliance Comment'] = Village_ScoresA['Overall Compliance'].apply(determine_conclusion)\n",
    "Village_ScoresA['Agric Compliance Comment'] = Village_ScoresA['Agric Compliance'].apply(determine_conclusion)\n",
    "Village_ScoresA['WASH Compliance Comment'] = Village_ScoresA['WASH Compliance'].apply(determine_conclusion)\n",
    "Village_ScoresA['Livestock Compliance Comment'] = Village_ScoresA['Livestock Compliance'].apply(determine_conclusion)\n",
    "Village_ScoresA['VSLA Participation Comment'] = Village_ScoresA['vlsa_membership'].apply(determine_conclusion)\n",
    "\n",
    "# Create a new DataFrame with the \"Overall score\" and \"Conclusions\" columns\n",
    "Conclusions = Village_ScoresA[['district_1',  'cluster_t', 'village_t', 'ev_month','Overall Compliance Comment',\n",
    "                              'Agric Compliance Comment', 'WASH Compliance Comment', 'Livestock Compliance Comment',\n",
    "                              'VSLA Participation Comment']]\n",
    "\n",
    "Conclusions.to_excel('RWConclusions.xlsx', index = False)"
   ]
  },
  {
   "cell_type": "markdown",
   "id": "569bdea8-0e71-43f5-b92c-47135113ca3c",
   "metadata": {},
   "source": [
    "Village SEs"
   ]
  },
  {
   "cell_type": "code",
   "execution_count": 37,
   "id": "8a0fb95f-790f-4516-9f98-3d166610cfa8",
   "metadata": {
    "tags": []
   },
   "outputs": [],
   "source": [
    "VLevel =July_SEs_RW[July_SEs_RW['standards_report'] == 'Village'].copy()"
   ]
  },
  {
   "cell_type": "code",
   "execution_count": 38,
   "id": "c3d5e3fb-785b-4c37-aab7-52264849aed1",
   "metadata": {
    "tags": []
   },
   "outputs": [
    {
     "data": {
      "text/html": [
       "<div>\n",
       "<style scoped>\n",
       "    .dataframe tbody tr th:only-of-type {\n",
       "        vertical-align: middle;\n",
       "    }\n",
       "\n",
       "    .dataframe tbody tr th {\n",
       "        vertical-align: top;\n",
       "    }\n",
       "\n",
       "    .dataframe thead th {\n",
       "        text-align: right;\n",
       "    }\n",
       "</style>\n",
       "<table border=\"1\" class=\"dataframe\">\n",
       "  <thead>\n",
       "    <tr style=\"text-align: right;\">\n",
       "      <th></th>\n",
       "      <th>SubmissionDate</th>\n",
       "      <th>starttime</th>\n",
       "      <th>endtime</th>\n",
       "      <th>text_audit</th>\n",
       "      <th>ev_date</th>\n",
       "      <th>contractor_name</th>\n",
       "      <th>cluster_t</th>\n",
       "      <th>village_t</th>\n",
       "      <th>standards_report</th>\n",
       "      <th>hhid</th>\n",
       "      <th>...</th>\n",
       "      <th>farm_pract_seen_nurs</th>\n",
       "      <th>liquid_manure_nursery</th>\n",
       "      <th>organic_pesticides_nursery</th>\n",
       "      <th>nursery_watered</th>\n",
       "      <th>veg_varieties_planted_in_nursery</th>\n",
       "      <th>village_instance</th>\n",
       "      <th>instanceID</th>\n",
       "      <th>instanceName</th>\n",
       "      <th>formdef_version</th>\n",
       "      <th>KEY</th>\n",
       "    </tr>\n",
       "  </thead>\n",
       "  <tbody>\n",
       "    <tr>\n",
       "      <th>0</th>\n",
       "      <td>21/07/2024 21:09</td>\n",
       "      <td>17/07/2024 20:24</td>\n",
       "      <td>21/07/2024 21:09</td>\n",
       "      <td>https://rtvuganda.surveycto.com/view/submissio...</td>\n",
       "      <td>21/07/2024</td>\n",
       "      <td>Bankudiye Charlotte</td>\n",
       "      <td>Rwantobo</td>\n",
       "      <td>Karambi</td>\n",
       "      <td>Village</td>\n",
       "      <td>NaN</td>\n",
       "      <td>...</td>\n",
       "      <td>NaN</td>\n",
       "      <td>NaN</td>\n",
       "      <td>NaN</td>\n",
       "      <td>NaN</td>\n",
       "      <td>NaN</td>\n",
       "      <td>NaN</td>\n",
       "      <td>uuid:bc821fec-8be7-46d3-9832-605bd883a261</td>\n",
       "      <td>Village :</td>\n",
       "      <td>2407162058</td>\n",
       "      <td>uuid:bc821fec-8be7-46d3-9832-605bd883a261</td>\n",
       "    </tr>\n",
       "  </tbody>\n",
       "</table>\n",
       "<p>1 rows × 479 columns</p>\n",
       "</div>"
      ],
      "text/plain": [
       "     SubmissionDate         starttime           endtime  \\\n",
       "0  21/07/2024 21:09  17/07/2024 20:24  21/07/2024 21:09   \n",
       "\n",
       "                                          text_audit     ev_date  \\\n",
       "0  https://rtvuganda.surveycto.com/view/submissio...  21/07/2024   \n",
       "\n",
       "       contractor_name cluster_t village_t standards_report hhid  ...  \\\n",
       "0  Bankudiye Charlotte  Rwantobo   Karambi          Village  NaN  ...   \n",
       "\n",
       "   farm_pract_seen_nurs  liquid_manure_nursery  organic_pesticides_nursery  \\\n",
       "0                   NaN                    NaN                         NaN   \n",
       "\n",
       "   nursery_watered veg_varieties_planted_in_nursery  village_instance  \\\n",
       "0              NaN                              NaN               NaN   \n",
       "\n",
       "                                  instanceID  instanceName  formdef_version  \\\n",
       "0  uuid:bc821fec-8be7-46d3-9832-605bd883a261     Village :       2407162058   \n",
       "\n",
       "                                         KEY  \n",
       "0  uuid:bc821fec-8be7-46d3-9832-605bd883a261  \n",
       "\n",
       "[1 rows x 479 columns]"
      ]
     },
     "execution_count": 38,
     "metadata": {},
     "output_type": "execute_result"
    }
   ],
   "source": [
    "VLevel.head(1)"
   ]
  },
  {
   "cell_type": "code",
   "execution_count": 64,
   "id": "e159adc2-036c-4894-a29e-2236628efc96",
   "metadata": {
    "tags": []
   },
   "outputs": [
    {
     "name": "stderr",
     "output_type": "stream",
     "text": [
      "/var/folders/8v/g75zp59111n27nbw3_c9ypxh0000gn/T/ipykernel_80624/3939620111.py:16: FutureWarning: Setting an item of incompatible dtype is deprecated and will raise an error in a future version of pandas. Value '-' has dtype incompatible with float64, please explicitly cast to a compatible dtype first.\n",
      "  VLevel_SEs.fillna(\"-\", inplace=True)\n",
      "/var/folders/8v/g75zp59111n27nbw3_c9ypxh0000gn/T/ipykernel_80624/3939620111.py:18: FutureWarning: DataFrame.applymap has been deprecated. Use DataFrame.map instead.\n",
      "  VLevel_SEsA = VLevel_SEs.applymap(lambda x: x * 100 if isinstance(x, (int, float)) else x)\n"
     ]
    }
   ],
   "source": [
    "VLevel_SEs = VLevel.groupby(['cluster_t',  'village_t'])[['water_sources_num', 'wuc1', 'wuc1_fetch_records', 'wuc1_contribution_records', 'water_flow1', \n",
    "                                                                         'source_sanitary_standards1', 'source_structural_standards1', 'source_demarcation_1', 'pooling_clear_1', \n",
    "                                                                         'time_spent_reduce1', 'vslas_num', 'mems_active_joint', 'contr_documentation_joint', 'keep_record_members_joint', \n",
    "                                                                         'keep_record_loans_expense_joint', 'meet_regular_joint', 'om_balance_costs_joint', 'vsla_goals_documented_joint', \n",
    "                                                                         'active_committee_func_joint', 'committee_positions_filled_joint', 'loan_repayments_tracked_join', 'loaning_intrest_joint',\n",
    "                                                                         'mems_active_youth', 'contr_documentation_youth', 'keep_record_members_youth', \n",
    "                                                                         'keep_record_loans_expense_youth', 'meet_regular_youth', 'om_balance_costs_youth', 'vsla_goals_documented_youth', \n",
    "                                                                         'active_committee_func_youth', 'committee_positions_filled_youth', 'loan_repayments_tracked_youth', 'loaning_intrest_youth',\n",
    "                                                                         'mems_active_women', 'contr_documentation_women', 'keep_record_members_women', \n",
    "                                                                         'keep_record_loans_expense_women', 'meet_regular_women', 'om_balance_costs_women', 'vsla_goals_documented_women', \n",
    "                                                                         'active_committee_func_women', 'committee_positions_filled_women', 'loan_repayments_tracked_women', 'loaning_intrest_women',\n",
    "                                                                         'demo_cared', 'farm_pract_seen', 'organic_manure_demo', 'organic_pesticides_demo', 'liquid_manure_demo',\n",
    "                                                                         'nursery_shade_constr', 'farm_pract_seen_nurs', 'liquid_manure_nursery', \n",
    "                                                                         'organic_pesticides_nursery', 'nursery_watered']].mean(numeric_only = True).reset_index()\n",
    "\n",
    "VLevel_SEs.fillna(\"-\", inplace=True)\n",
    "\n",
    "VLevel_SEsA = VLevel_SEs.applymap(lambda x: x * 100 if isinstance(x, (int, float)) else x)"
   ]
  },
  {
   "cell_type": "code",
   "execution_count": 51,
   "id": "dc42b157-0da6-4bfb-a861-98a9ce18c52c",
   "metadata": {
    "tags": []
   },
   "outputs": [
    {
     "data": {
      "text/html": [
       "<div>\n",
       "<style scoped>\n",
       "    .dataframe tbody tr th:only-of-type {\n",
       "        vertical-align: middle;\n",
       "    }\n",
       "\n",
       "    .dataframe tbody tr th {\n",
       "        vertical-align: top;\n",
       "    }\n",
       "\n",
       "    .dataframe thead th {\n",
       "        text-align: right;\n",
       "    }\n",
       "</style>\n",
       "<table border=\"1\" class=\"dataframe\">\n",
       "  <thead>\n",
       "    <tr style=\"text-align: right;\">\n",
       "      <th></th>\n",
       "      <th>district_1</th>\n",
       "      <th>cluster_t</th>\n",
       "      <th>village_t</th>\n",
       "      <th>ev_month</th>\n",
       "      <th>water_sources_num</th>\n",
       "      <th>wuc1</th>\n",
       "      <th>wuc1_fetch_records</th>\n",
       "      <th>wuc1_contribution_records</th>\n",
       "      <th>water_flow1</th>\n",
       "      <th>source_sanitary_standards1</th>\n",
       "      <th>...</th>\n",
       "      <th>demo_cared</th>\n",
       "      <th>farm_pract_seen</th>\n",
       "      <th>organic_manure_demo</th>\n",
       "      <th>organic_pesticides_demo</th>\n",
       "      <th>liquid_manure_demo</th>\n",
       "      <th>nursery_shade_constr</th>\n",
       "      <th>farm_pract_seen_nurs</th>\n",
       "      <th>liquid_manure_nursery</th>\n",
       "      <th>organic_pesticides_nursery</th>\n",
       "      <th>nursery_watered</th>\n",
       "    </tr>\n",
       "  </thead>\n",
       "  <tbody>\n",
       "  </tbody>\n",
       "</table>\n",
       "<p>0 rows × 58 columns</p>\n",
       "</div>"
      ],
      "text/plain": [
       "Empty DataFrame\n",
       "Columns: [district_1, cluster_t, village_t, ev_month, water_sources_num, wuc1, wuc1_fetch_records, wuc1_contribution_records, water_flow1, source_sanitary_standards1, source_structural_standards1, source_demarcation_1, pooling_clear_1, time_spent_reduce1, vslas_num, mems_active_joint, contr_documentation_joint, keep_record_members_joint, keep_record_loans_expense_joint, meet_regular_joint, om_balance_costs_joint, vsla_goals_documented_joint, active_committee_func_joint, committee_positions_filled_joint, loan_repayments_tracked_join, loaning_intrest_joint, mems_active_youth, contr_documentation_youth, keep_record_members_youth, keep_record_loans_expense_youth, meet_regular_youth, om_balance_costs_youth, vsla_goals_documented_youth, active_committee_func_youth, committee_positions_filled_youth, loan_repayments_tracked_youth, loaning_intrest_youth, mems_active_women, contr_documentation_women, keep_record_members_women, keep_record_loans_expense_women, meet_regular_women, om_balance_costs_women, vsla_goals_documented_women, active_committee_func_women, committee_positions_filled_women, loan_repayments_tracked_women, loaning_intrest_women, demo_cared, farm_pract_seen, organic_manure_demo, organic_pesticides_demo, liquid_manure_demo, nursery_shade_constr, farm_pract_seen_nurs, liquid_manure_nursery, organic_pesticides_nursery, nursery_watered]\n",
       "Index: []\n",
       "\n",
       "[0 rows x 58 columns]"
      ]
     },
     "execution_count": 51,
     "metadata": {},
     "output_type": "execute_result"
    }
   ],
   "source": []
  },
  {
   "cell_type": "code",
   "execution_count": 65,
   "id": "a3d7c485-002b-4e2c-89b0-50f10ad25a02",
   "metadata": {
    "tags": []
   },
   "outputs": [
    {
     "data": {
      "text/html": [
       "<div>\n",
       "<style scoped>\n",
       "    .dataframe tbody tr th:only-of-type {\n",
       "        vertical-align: middle;\n",
       "    }\n",
       "\n",
       "    .dataframe tbody tr th {\n",
       "        vertical-align: top;\n",
       "    }\n",
       "\n",
       "    .dataframe thead th {\n",
       "        text-align: right;\n",
       "    }\n",
       "</style>\n",
       "<table border=\"1\" class=\"dataframe\">\n",
       "  <thead>\n",
       "    <tr style=\"text-align: right;\">\n",
       "      <th></th>\n",
       "      <th>cluster_t</th>\n",
       "      <th>village_t</th>\n",
       "      <th>water_sources_num</th>\n",
       "      <th>wuc1</th>\n",
       "      <th>wuc1_fetch_records</th>\n",
       "      <th>wuc1_contribution_records</th>\n",
       "      <th>water_flow1</th>\n",
       "      <th>source_sanitary_standards1</th>\n",
       "      <th>source_structural_standards1</th>\n",
       "      <th>source_demarcation_1</th>\n",
       "      <th>...</th>\n",
       "      <th>demo_cared</th>\n",
       "      <th>farm_pract_seen</th>\n",
       "      <th>organic_manure_demo</th>\n",
       "      <th>organic_pesticides_demo</th>\n",
       "      <th>liquid_manure_demo</th>\n",
       "      <th>nursery_shade_constr</th>\n",
       "      <th>farm_pract_seen_nurs</th>\n",
       "      <th>liquid_manure_nursery</th>\n",
       "      <th>organic_pesticides_nursery</th>\n",
       "      <th>nursery_watered</th>\n",
       "    </tr>\n",
       "  </thead>\n",
       "  <tbody>\n",
       "    <tr>\n",
       "      <th>0</th>\n",
       "      <td>Mwiyanike</td>\n",
       "      <td>Gitebe</td>\n",
       "      <td>-</td>\n",
       "      <td>-</td>\n",
       "      <td>-</td>\n",
       "      <td>-</td>\n",
       "      <td>-</td>\n",
       "      <td>-</td>\n",
       "      <td>-</td>\n",
       "      <td>-</td>\n",
       "      <td>...</td>\n",
       "      <td>-</td>\n",
       "      <td>-</td>\n",
       "      <td>-</td>\n",
       "      <td>-</td>\n",
       "      <td>-</td>\n",
       "      <td>-</td>\n",
       "      <td>-</td>\n",
       "      <td>-</td>\n",
       "      <td>-</td>\n",
       "      <td>-</td>\n",
       "    </tr>\n",
       "    <tr>\n",
       "      <th>1</th>\n",
       "      <td>Mwiyanike</td>\n",
       "      <td>Kayanza</td>\n",
       "      <td>-</td>\n",
       "      <td>-</td>\n",
       "      <td>-</td>\n",
       "      <td>-</td>\n",
       "      <td>-</td>\n",
       "      <td>-</td>\n",
       "      <td>-</td>\n",
       "      <td>-</td>\n",
       "      <td>...</td>\n",
       "      <td>-</td>\n",
       "      <td>-</td>\n",
       "      <td>-</td>\n",
       "      <td>-</td>\n",
       "      <td>-</td>\n",
       "      <td>-</td>\n",
       "      <td>-</td>\n",
       "      <td>-</td>\n",
       "      <td>-</td>\n",
       "      <td>-</td>\n",
       "    </tr>\n",
       "    <tr>\n",
       "      <th>2</th>\n",
       "      <td>Mwiyanike</td>\n",
       "      <td>Kivuruga</td>\n",
       "      <td>-</td>\n",
       "      <td>-</td>\n",
       "      <td>-</td>\n",
       "      <td>-</td>\n",
       "      <td>-</td>\n",
       "      <td>-</td>\n",
       "      <td>-</td>\n",
       "      <td>-</td>\n",
       "      <td>...</td>\n",
       "      <td>-</td>\n",
       "      <td>-</td>\n",
       "      <td>-</td>\n",
       "      <td>-</td>\n",
       "      <td>-</td>\n",
       "      <td>-</td>\n",
       "      <td>-</td>\n",
       "      <td>-</td>\n",
       "      <td>-</td>\n",
       "      <td>-</td>\n",
       "    </tr>\n",
       "    <tr>\n",
       "      <th>3</th>\n",
       "      <td>Mwiyanike</td>\n",
       "      <td>Mucundebo</td>\n",
       "      <td>-</td>\n",
       "      <td>-</td>\n",
       "      <td>-</td>\n",
       "      <td>-</td>\n",
       "      <td>-</td>\n",
       "      <td>-</td>\n",
       "      <td>-</td>\n",
       "      <td>-</td>\n",
       "      <td>...</td>\n",
       "      <td>-</td>\n",
       "      <td>-</td>\n",
       "      <td>-</td>\n",
       "      <td>-</td>\n",
       "      <td>-</td>\n",
       "      <td>-</td>\n",
       "      <td>-</td>\n",
       "      <td>-</td>\n",
       "      <td>-</td>\n",
       "      <td>-</td>\n",
       "    </tr>\n",
       "    <tr>\n",
       "      <th>4</th>\n",
       "      <td>Mwiyanike</td>\n",
       "      <td>Musaraba</td>\n",
       "      <td>-</td>\n",
       "      <td>-</td>\n",
       "      <td>-</td>\n",
       "      <td>-</td>\n",
       "      <td>-</td>\n",
       "      <td>-</td>\n",
       "      <td>-</td>\n",
       "      <td>-</td>\n",
       "      <td>...</td>\n",
       "      <td>-</td>\n",
       "      <td>-</td>\n",
       "      <td>-</td>\n",
       "      <td>-</td>\n",
       "      <td>-</td>\n",
       "      <td>-</td>\n",
       "      <td>-</td>\n",
       "      <td>-</td>\n",
       "      <td>-</td>\n",
       "      <td>-</td>\n",
       "    </tr>\n",
       "  </tbody>\n",
       "</table>\n",
       "<p>5 rows × 56 columns</p>\n",
       "</div>"
      ],
      "text/plain": [
       "   cluster_t  village_t water_sources_num wuc1 wuc1_fetch_records  \\\n",
       "0  Mwiyanike     Gitebe                 -    -                  -   \n",
       "1  Mwiyanike    Kayanza                 -    -                  -   \n",
       "2  Mwiyanike   Kivuruga                 -    -                  -   \n",
       "3  Mwiyanike  Mucundebo                 -    -                  -   \n",
       "4  Mwiyanike   Musaraba                 -    -                  -   \n",
       "\n",
       "  wuc1_contribution_records water_flow1 source_sanitary_standards1  \\\n",
       "0                         -           -                          -   \n",
       "1                         -           -                          -   \n",
       "2                         -           -                          -   \n",
       "3                         -           -                          -   \n",
       "4                         -           -                          -   \n",
       "\n",
       "  source_structural_standards1 source_demarcation_1  ... demo_cared  \\\n",
       "0                            -                    -  ...          -   \n",
       "1                            -                    -  ...          -   \n",
       "2                            -                    -  ...          -   \n",
       "3                            -                    -  ...          -   \n",
       "4                            -                    -  ...          -   \n",
       "\n",
       "  farm_pract_seen  organic_manure_demo  organic_pesticides_demo  \\\n",
       "0               -                    -                        -   \n",
       "1               -                    -                        -   \n",
       "2               -                    -                        -   \n",
       "3               -                    -                        -   \n",
       "4               -                    -                        -   \n",
       "\n",
       "   liquid_manure_demo  nursery_shade_constr  farm_pract_seen_nurs  \\\n",
       "0                   -                     -                     -   \n",
       "1                   -                     -                     -   \n",
       "2                   -                     -                     -   \n",
       "3                   -                     -                     -   \n",
       "4                   -                     -                     -   \n",
       "\n",
       "   liquid_manure_nursery  organic_pesticides_nursery  nursery_watered  \n",
       "0                      -                           -                -  \n",
       "1                      -                           -                -  \n",
       "2                      -                           -                -  \n",
       "3                      -                           -                -  \n",
       "4                      -                           -                -  \n",
       "\n",
       "[5 rows x 56 columns]"
      ]
     },
     "execution_count": 65,
     "metadata": {},
     "output_type": "execute_result"
    }
   ],
   "source": [
    "VLevel_SEs.head()"
   ]
  },
  {
   "cell_type": "code",
   "execution_count": 55,
   "id": "38655562-e35c-4a1c-8efc-d908c9c2e810",
   "metadata": {
    "tags": []
   },
   "outputs": [
    {
     "data": {
      "text/plain": [
       "Series([], Name: water_sources_num, dtype: float64)"
      ]
     },
     "execution_count": 55,
     "metadata": {},
     "output_type": "execute_result"
    }
   ],
   "source": []
  },
  {
   "cell_type": "code",
   "execution_count": 58,
   "id": "b71354b6-1daf-43fb-ae66-9f09271ed6bf",
   "metadata": {
    "tags": []
   },
   "outputs": [
    {
     "data": {
      "text/plain": [
       "0      NaN\n",
       "16     NaN\n",
       "32     NaN\n",
       "48     NaN\n",
       "64     NaN\n",
       "91     NaN\n",
       "96     NaN\n",
       "115    NaN\n",
       "128    NaN\n",
       "138    NaN\n",
       "150    NaN\n",
       "154    NaN\n",
       "173    NaN\n",
       "190    NaN\n",
       "202    NaN\n",
       "222    NaN\n",
       "Name: district_1, dtype: object"
      ]
     },
     "execution_count": 58,
     "metadata": {},
     "output_type": "execute_result"
    }
   ],
   "source": []
  },
  {
   "cell_type": "code",
   "execution_count": null,
   "id": "b44e0dd2-b015-4df9-b5a0-bb75833e71d1",
   "metadata": {},
   "outputs": [],
   "source": []
  },
  {
   "cell_type": "code",
   "execution_count": 57,
   "id": "8e6431d7-e6c1-4aa6-981c-db2dbf003a81",
   "metadata": {
    "tags": []
   },
   "outputs": [
    {
     "data": {
      "text/plain": [
       "Series([], Name: water_sources_num, dtype: float64)"
      ]
     },
     "execution_count": 57,
     "metadata": {},
     "output_type": "execute_result"
    }
   ],
   "source": []
  },
  {
   "cell_type": "code",
   "execution_count": null,
   "id": "d8e2c37b-e876-470d-a08f-e1d381e0fad2",
   "metadata": {},
   "outputs": [],
   "source": []
  },
  {
   "cell_type": "code",
   "execution_count": 66,
   "id": "22e2f30a-7f51-491e-aff3-c5fcbe87c06f",
   "metadata": {
    "tags": []
   },
   "outputs": [
    {
     "data": {
      "text/html": [
       "<div>\n",
       "<style scoped>\n",
       "    .dataframe tbody tr th:only-of-type {\n",
       "        vertical-align: middle;\n",
       "    }\n",
       "\n",
       "    .dataframe tbody tr th {\n",
       "        vertical-align: top;\n",
       "    }\n",
       "\n",
       "    .dataframe thead th {\n",
       "        text-align: right;\n",
       "    }\n",
       "</style>\n",
       "<table border=\"1\" class=\"dataframe\">\n",
       "  <thead>\n",
       "    <tr style=\"text-align: right;\">\n",
       "      <th></th>\n",
       "      <th>cluster_t</th>\n",
       "      <th>village_t</th>\n",
       "      <th>water_sources_num</th>\n",
       "      <th>wuc1</th>\n",
       "      <th>wuc1_fetch_records</th>\n",
       "      <th>wuc1_contribution_records</th>\n",
       "      <th>water_flow1</th>\n",
       "      <th>source_sanitary_standards1</th>\n",
       "      <th>source_structural_standards1</th>\n",
       "      <th>source_demarcation_1</th>\n",
       "      <th>...</th>\n",
       "      <th>demo_cared</th>\n",
       "      <th>farm_pract_seen</th>\n",
       "      <th>organic_manure_demo</th>\n",
       "      <th>organic_pesticides_demo</th>\n",
       "      <th>liquid_manure_demo</th>\n",
       "      <th>nursery_shade_constr</th>\n",
       "      <th>farm_pract_seen_nurs</th>\n",
       "      <th>liquid_manure_nursery</th>\n",
       "      <th>organic_pesticides_nursery</th>\n",
       "      <th>nursery_watered</th>\n",
       "    </tr>\n",
       "  </thead>\n",
       "  <tbody>\n",
       "    <tr>\n",
       "      <th>0</th>\n",
       "      <td>Mwiyanike</td>\n",
       "      <td>Gitebe</td>\n",
       "      <td>-</td>\n",
       "      <td>-</td>\n",
       "      <td>-</td>\n",
       "      <td>-</td>\n",
       "      <td>-</td>\n",
       "      <td>-</td>\n",
       "      <td>-</td>\n",
       "      <td>-</td>\n",
       "      <td>...</td>\n",
       "      <td>-</td>\n",
       "      <td>-</td>\n",
       "      <td>-</td>\n",
       "      <td>-</td>\n",
       "      <td>-</td>\n",
       "      <td>-</td>\n",
       "      <td>-</td>\n",
       "      <td>-</td>\n",
       "      <td>-</td>\n",
       "      <td>-</td>\n",
       "    </tr>\n",
       "    <tr>\n",
       "      <th>1</th>\n",
       "      <td>Mwiyanike</td>\n",
       "      <td>Kayanza</td>\n",
       "      <td>-</td>\n",
       "      <td>-</td>\n",
       "      <td>-</td>\n",
       "      <td>-</td>\n",
       "      <td>-</td>\n",
       "      <td>-</td>\n",
       "      <td>-</td>\n",
       "      <td>-</td>\n",
       "      <td>...</td>\n",
       "      <td>-</td>\n",
       "      <td>-</td>\n",
       "      <td>-</td>\n",
       "      <td>-</td>\n",
       "      <td>-</td>\n",
       "      <td>-</td>\n",
       "      <td>-</td>\n",
       "      <td>-</td>\n",
       "      <td>-</td>\n",
       "      <td>-</td>\n",
       "    </tr>\n",
       "    <tr>\n",
       "      <th>2</th>\n",
       "      <td>Mwiyanike</td>\n",
       "      <td>Kivuruga</td>\n",
       "      <td>-</td>\n",
       "      <td>-</td>\n",
       "      <td>-</td>\n",
       "      <td>-</td>\n",
       "      <td>-</td>\n",
       "      <td>-</td>\n",
       "      <td>-</td>\n",
       "      <td>-</td>\n",
       "      <td>...</td>\n",
       "      <td>-</td>\n",
       "      <td>-</td>\n",
       "      <td>-</td>\n",
       "      <td>-</td>\n",
       "      <td>-</td>\n",
       "      <td>-</td>\n",
       "      <td>-</td>\n",
       "      <td>-</td>\n",
       "      <td>-</td>\n",
       "      <td>-</td>\n",
       "    </tr>\n",
       "    <tr>\n",
       "      <th>3</th>\n",
       "      <td>Mwiyanike</td>\n",
       "      <td>Mucundebo</td>\n",
       "      <td>-</td>\n",
       "      <td>-</td>\n",
       "      <td>-</td>\n",
       "      <td>-</td>\n",
       "      <td>-</td>\n",
       "      <td>-</td>\n",
       "      <td>-</td>\n",
       "      <td>-</td>\n",
       "      <td>...</td>\n",
       "      <td>-</td>\n",
       "      <td>-</td>\n",
       "      <td>-</td>\n",
       "      <td>-</td>\n",
       "      <td>-</td>\n",
       "      <td>-</td>\n",
       "      <td>-</td>\n",
       "      <td>-</td>\n",
       "      <td>-</td>\n",
       "      <td>-</td>\n",
       "    </tr>\n",
       "    <tr>\n",
       "      <th>4</th>\n",
       "      <td>Mwiyanike</td>\n",
       "      <td>Musaraba</td>\n",
       "      <td>-</td>\n",
       "      <td>-</td>\n",
       "      <td>-</td>\n",
       "      <td>-</td>\n",
       "      <td>-</td>\n",
       "      <td>-</td>\n",
       "      <td>-</td>\n",
       "      <td>-</td>\n",
       "      <td>...</td>\n",
       "      <td>-</td>\n",
       "      <td>-</td>\n",
       "      <td>-</td>\n",
       "      <td>-</td>\n",
       "      <td>-</td>\n",
       "      <td>-</td>\n",
       "      <td>-</td>\n",
       "      <td>-</td>\n",
       "      <td>-</td>\n",
       "      <td>-</td>\n",
       "    </tr>\n",
       "  </tbody>\n",
       "</table>\n",
       "<p>5 rows × 56 columns</p>\n",
       "</div>"
      ],
      "text/plain": [
       "   cluster_t  village_t water_sources_num wuc1 wuc1_fetch_records  \\\n",
       "0  Mwiyanike     Gitebe                 -    -                  -   \n",
       "1  Mwiyanike    Kayanza                 -    -                  -   \n",
       "2  Mwiyanike   Kivuruga                 -    -                  -   \n",
       "3  Mwiyanike  Mucundebo                 -    -                  -   \n",
       "4  Mwiyanike   Musaraba                 -    -                  -   \n",
       "\n",
       "  wuc1_contribution_records water_flow1 source_sanitary_standards1  \\\n",
       "0                         -           -                          -   \n",
       "1                         -           -                          -   \n",
       "2                         -           -                          -   \n",
       "3                         -           -                          -   \n",
       "4                         -           -                          -   \n",
       "\n",
       "  source_structural_standards1 source_demarcation_1  ... demo_cared  \\\n",
       "0                            -                    -  ...          -   \n",
       "1                            -                    -  ...          -   \n",
       "2                            -                    -  ...          -   \n",
       "3                            -                    -  ...          -   \n",
       "4                            -                    -  ...          -   \n",
       "\n",
       "  farm_pract_seen  organic_manure_demo  organic_pesticides_demo  \\\n",
       "0               -                    -                        -   \n",
       "1               -                    -                        -   \n",
       "2               -                    -                        -   \n",
       "3               -                    -                        -   \n",
       "4               -                    -                        -   \n",
       "\n",
       "   liquid_manure_demo  nursery_shade_constr  farm_pract_seen_nurs  \\\n",
       "0                   -                     -                     -   \n",
       "1                   -                     -                     -   \n",
       "2                   -                     -                     -   \n",
       "3                   -                     -                     -   \n",
       "4                   -                     -                     -   \n",
       "\n",
       "   liquid_manure_nursery  organic_pesticides_nursery  nursery_watered  \n",
       "0                      -                           -                -  \n",
       "1                      -                           -                -  \n",
       "2                      -                           -                -  \n",
       "3                      -                           -                -  \n",
       "4                      -                           -                -  \n",
       "\n",
       "[5 rows x 56 columns]"
      ]
     },
     "execution_count": 66,
     "metadata": {},
     "output_type": "execute_result"
    }
   ],
   "source": [
    "VLevel_SEs.head()"
   ]
  },
  {
   "cell_type": "code",
   "execution_count": 68,
   "id": "4fcf5646-6f4a-4ae8-b3f4-84d12b4afe21",
   "metadata": {
    "tags": []
   },
   "outputs": [],
   "source": [
    "VLevel_SEsA.to_excel('RWCommunitySEs.xlsx', index = False)"
   ]
  },
  {
   "cell_type": "code",
   "execution_count": 42,
   "id": "65e372d5-ca99-4d4b-905b-aa8977254dce",
   "metadata": {
    "tags": []
   },
   "outputs": [],
   "source": [
    "AgricTr_Cols = ['agric_trainings_1', 'agric_trainings_2', 'agric_trainings_3', \n",
    "                'agric_trainings_4', 'agric_trainings_5', 'agric_trainings_6']\n",
    "\n",
    "HHLevel[AgricTr_Cols] = HHLevel[AgricTr_Cols].apply(pd.to_numeric, errors='coerce')\n",
    "\n",
    "HHLevel['Agric Trainings'] = HHLevel[AgricTr_Cols].sum(axis=1)\n",
    "\n",
    "HHLevel['Atleast 1 Agric Training'] = np.where(HHLevel['Agric Trainings'] > 0, 1,0)"
   ]
  },
  {
   "cell_type": "code",
   "execution_count": 43,
   "id": "d5e7c599-8935-4ffb-9979-55eea621a65d",
   "metadata": {
    "tags": []
   },
   "outputs": [],
   "source": [
    "WASHTr_Cols = ['wash_trainings_1', 'wash_trainings_2']\n",
    "\n",
    "HHLevel[WASHTr_Cols] = HHLevel[WASHTr_Cols].apply(pd.to_numeric, errors='coerce')\n",
    "\n",
    "HHLevel['WASH Trainings'] = HHLevel[AgricTr_Cols].sum(axis=1)\n",
    "\n",
    "HHLevel['Atleast 1 WASH Training'] = np.where(HHLevel['WASH Trainings'] > 0, 1,0)"
   ]
  },
  {
   "cell_type": "code",
   "execution_count": 44,
   "id": "d7900fcd-56fb-487c-a77b-46dc58d40248",
   "metadata": {
    "tags": []
   },
   "outputs": [],
   "source": [
    "HTr_Cols = ['ht_trainings_1', 'ht_trainings_2', 'ht_trainings_3', 'ht_trainings_4']\n",
    "\n",
    "HHLevel[HTr_Cols] = HHLevel[HTr_Cols].apply(pd.to_numeric, errors='coerce')\n",
    "\n",
    "HHLevel['HR Trainings'] = HHLevel[AgricTr_Cols].sum(axis=1)\n",
    "\n",
    "HHLevel['Atleast 1 HR Training'] = np.where(HHLevel['HR Trainings'] > 0, 1,0)"
   ]
  },
  {
   "cell_type": "code",
   "execution_count": 45,
   "id": "0a425b40-0270-4715-83e0-ca4c8d72feba",
   "metadata": {
    "tags": []
   },
   "outputs": [],
   "source": [
    "HORTr_Cols = ['hort_trainings_1', 'hort_trainings_2', 'hort_trainings_3', 'hort_trainings_4']\n",
    "\n",
    "HHLevel[HORTr_Cols] = HHLevel[HORTr_Cols].apply(pd.to_numeric, errors='coerce')\n",
    "\n",
    "HHLevel['HOR Trainings'] = HHLevel[AgricTr_Cols].sum(axis=1)\n",
    "\n",
    "HHLevel['Atleast 1 HOR Training'] = np.where(HHLevel['HOR Trainings'] > 0, 1,0)"
   ]
  },
  {
   "cell_type": "code",
   "execution_count": 46,
   "id": "5d6bd9d5-964d-4d55-861e-3816aec59297",
   "metadata": {
    "tags": []
   },
   "outputs": [],
   "source": [
    "Cluster_Trainings = HHLevel.groupby(['district_1',  'cluster_t', 'ev_month'])[['Atleast 1 Agric Training', \n",
    "                                                                               'Atleast 1 WASH Training',\n",
    "                                                                               'Atleast 1 HR Training',\n",
    "                                                                               'Atleast 1 HOR Training',\n",
    "                                                                              'ccdt_trainings_1']].mean(numeric_only = True).reset_index()\n",
    "                                                                                          "
   ]
  },
  {
   "cell_type": "code",
   "execution_count": 47,
   "id": "964f6bb2-022e-4e94-9b04-aadc9b37976a",
   "metadata": {
    "tags": []
   },
   "outputs": [],
   "source": [
    "Village_Trainings = HHLevel.groupby(['district_1',  'cluster_t', 'village_t', 'ev_month'])[['Atleast 1 Agric Training', \n",
    "                                                                               'Atleast 1 WASH Training',\n",
    "                                                                               'Atleast 1 HR Training',\n",
    "                                                                               'Atleast 1 HOR Training',\n",
    "                                                                                           'ccdt_trainings_1']].mean(numeric_only = True).reset_index()\n",
    "                                                                                          "
   ]
  },
  {
   "cell_type": "code",
   "execution_count": 48,
   "id": "456bc22a-5e13-4370-861c-e7ceaecbabe6",
   "metadata": {
    "tags": []
   },
   "outputs": [],
   "source": [
    "Cluster_Trainings.to_excel('RWCluster_Trainings.xlsx', index = False)"
   ]
  },
  {
   "cell_type": "code",
   "execution_count": 49,
   "id": "011a03a7-9a77-4023-a234-a882a67cbcc5",
   "metadata": {
    "tags": []
   },
   "outputs": [],
   "source": [
    "Village_Trainings.to_excel('RWVillage_Trainings.xlsx', index = False)"
   ]
  },
  {
   "cell_type": "code",
   "execution_count": 50,
   "id": "b196200a-ea6a-4638-9143-d97152bff67e",
   "metadata": {
    "tags": []
   },
   "outputs": [],
   "source": [
    "RWComments = HHLevel[['district_1',  'cluster_t',  'village_t', 'ev_month', 'hh_comment',  'evaluators_comment']]\n",
    "\n",
    "RWComments.to_excel('RWComments.xlsx', index = False)"
   ]
  },
  {
   "cell_type": "code",
   "execution_count": null,
   "id": "47b4e5d6-8c9a-4faa-8d44-379dd020d006",
   "metadata": {},
   "outputs": [],
   "source": []
  },
  {
   "cell_type": "code",
   "execution_count": null,
   "id": "2e9b5f51-8392-44dd-b227-a52c32e3471b",
   "metadata": {},
   "outputs": [],
   "source": []
  },
  {
   "cell_type": "code",
   "execution_count": null,
   "id": "17bbceb0-ea9f-4e23-8f7b-4e6b9fd06017",
   "metadata": {},
   "outputs": [],
   "source": []
  },
  {
   "cell_type": "code",
   "execution_count": null,
   "id": "11110bd5-9c95-413a-90f1-5a1ab49b2cf8",
   "metadata": {},
   "outputs": [],
   "source": []
  },
  {
   "cell_type": "code",
   "execution_count": 46,
   "id": "1e9021aa-a30e-4322-aca4-db5483c86229",
   "metadata": {
    "tags": []
   },
   "outputs": [
    {
     "ename": "IndexError",
     "evalue": "At least one sheet must be visible",
     "output_type": "error",
     "traceback": [
      "\u001b[0;31m---------------------------------------------------------------------------\u001b[0m",
      "\u001b[0;31mNameError\u001b[0m                                 Traceback (most recent call last)",
      "Cell \u001b[0;32mIn[46], line 6\u001b[0m\n\u001b[1;32m      5\u001b[0m \u001b[38;5;28;01mwith\u001b[39;00m pd\u001b[38;5;241m.\u001b[39mExcelWriter(\u001b[38;5;124m'\u001b[39m\u001b[38;5;124mRwanda_SEs.xlsx\u001b[39m\u001b[38;5;124m'\u001b[39m, engine\u001b[38;5;241m=\u001b[39m\u001b[38;5;124m'\u001b[39m\u001b[38;5;124mopenpyxl\u001b[39m\u001b[38;5;124m'\u001b[39m) \u001b[38;5;28;01mas\u001b[39;00m writer:\n\u001b[0;32m----> 6\u001b[0m     \u001b[38;5;28;01mfor\u001b[39;00m sheet_name, df \u001b[38;5;129;01min\u001b[39;00m \u001b[43mJuneSEs\u001b[49m\u001b[38;5;241m.\u001b[39mitems():\n\u001b[1;32m      7\u001b[0m         df\u001b[38;5;241m.\u001b[39mto_excel(writer, sheet_name\u001b[38;5;241m=\u001b[39msheet_name, index\u001b[38;5;241m=\u001b[39m\u001b[38;5;28;01mFalse\u001b[39;00m)\n",
      "\u001b[0;31mNameError\u001b[0m: name 'JuneSEs' is not defined",
      "\nDuring handling of the above exception, another exception occurred:\n",
      "\u001b[0;31mIndexError\u001b[0m                                Traceback (most recent call last)",
      "Cell \u001b[0;32mIn[46], line 5\u001b[0m\n\u001b[1;32m      1\u001b[0m RwandaJulySEs \u001b[38;5;241m=\u001b[39m {\u001b[38;5;124m'\u001b[39m\u001b[38;5;124mSheet1\u001b[39m\u001b[38;5;124m'\u001b[39m: Cluster_ScoresA, \u001b[38;5;124m'\u001b[39m\u001b[38;5;124mSheet2\u001b[39m\u001b[38;5;124m'\u001b[39m: Village_ScoresA, \u001b[38;5;124m'\u001b[39m\u001b[38;5;124mSheet3\u001b[39m\u001b[38;5;124m'\u001b[39m: Conclusions,\n\u001b[1;32m      2\u001b[0m           \u001b[38;5;124m'\u001b[39m\u001b[38;5;124mSheet4\u001b[39m\u001b[38;5;124m'\u001b[39m: Village_NPS, \u001b[38;5;124m'\u001b[39m\u001b[38;5;124mSheet5\u001b[39m\u001b[38;5;124m'\u001b[39m: Cluster_NPS, \u001b[38;5;124m'\u001b[39m\u001b[38;5;124mSheet8\u001b[39m\u001b[38;5;124m'\u001b[39m: VLevel_SEs }\n\u001b[1;32m      4\u001b[0m \u001b[38;5;66;03m# Create a new Excel writer object\u001b[39;00m\n\u001b[0;32m----> 5\u001b[0m \u001b[38;5;28;43;01mwith\u001b[39;49;00m\u001b[43m \u001b[49m\u001b[43mpd\u001b[49m\u001b[38;5;241;43m.\u001b[39;49m\u001b[43mExcelWriter\u001b[49m\u001b[43m(\u001b[49m\u001b[38;5;124;43m'\u001b[39;49m\u001b[38;5;124;43mRwanda_SEs.xlsx\u001b[39;49m\u001b[38;5;124;43m'\u001b[39;49m\u001b[43m,\u001b[49m\u001b[43m \u001b[49m\u001b[43mengine\u001b[49m\u001b[38;5;241;43m=\u001b[39;49m\u001b[38;5;124;43m'\u001b[39;49m\u001b[38;5;124;43mopenpyxl\u001b[39;49m\u001b[38;5;124;43m'\u001b[39;49m\u001b[43m)\u001b[49m\u001b[43m \u001b[49m\u001b[38;5;28;43;01mas\u001b[39;49;00m\u001b[43m \u001b[49m\u001b[43mwriter\u001b[49m\u001b[43m:\u001b[49m\n\u001b[1;32m      6\u001b[0m \u001b[43m    \u001b[49m\u001b[38;5;28;43;01mfor\u001b[39;49;00m\u001b[43m \u001b[49m\u001b[43msheet_name\u001b[49m\u001b[43m,\u001b[49m\u001b[43m \u001b[49m\u001b[43mdf\u001b[49m\u001b[43m \u001b[49m\u001b[38;5;129;43;01min\u001b[39;49;00m\u001b[43m \u001b[49m\u001b[43mJuneSEs\u001b[49m\u001b[38;5;241;43m.\u001b[39;49m\u001b[43mitems\u001b[49m\u001b[43m(\u001b[49m\u001b[43m)\u001b[49m\u001b[43m:\u001b[49m\n\u001b[1;32m      7\u001b[0m \u001b[43m        \u001b[49m\u001b[43mdf\u001b[49m\u001b[38;5;241;43m.\u001b[39;49m\u001b[43mto_excel\u001b[49m\u001b[43m(\u001b[49m\u001b[43mwriter\u001b[49m\u001b[43m,\u001b[49m\u001b[43m \u001b[49m\u001b[43msheet_name\u001b[49m\u001b[38;5;241;43m=\u001b[39;49m\u001b[43msheet_name\u001b[49m\u001b[43m,\u001b[49m\u001b[43m \u001b[49m\u001b[43mindex\u001b[49m\u001b[38;5;241;43m=\u001b[39;49m\u001b[38;5;28;43;01mFalse\u001b[39;49;00m\u001b[43m)\u001b[49m\n",
      "File \u001b[0;32m~/miniconda3/envs/SEs_Work/lib/python3.12/site-packages/pandas/io/excel/_base.py:1353\u001b[0m, in \u001b[0;36mExcelWriter.__exit__\u001b[0;34m(self, exc_type, exc_value, traceback)\u001b[0m\n\u001b[1;32m   1347\u001b[0m \u001b[38;5;28;01mdef\u001b[39;00m \u001b[38;5;21m__exit__\u001b[39m(\n\u001b[1;32m   1348\u001b[0m     \u001b[38;5;28mself\u001b[39m,\n\u001b[1;32m   1349\u001b[0m     exc_type: \u001b[38;5;28mtype\u001b[39m[\u001b[38;5;167;01mBaseException\u001b[39;00m] \u001b[38;5;241m|\u001b[39m \u001b[38;5;28;01mNone\u001b[39;00m,\n\u001b[1;32m   1350\u001b[0m     exc_value: \u001b[38;5;167;01mBaseException\u001b[39;00m \u001b[38;5;241m|\u001b[39m \u001b[38;5;28;01mNone\u001b[39;00m,\n\u001b[1;32m   1351\u001b[0m     traceback: TracebackType \u001b[38;5;241m|\u001b[39m \u001b[38;5;28;01mNone\u001b[39;00m,\n\u001b[1;32m   1352\u001b[0m ) \u001b[38;5;241m-\u001b[39m\u001b[38;5;241m>\u001b[39m \u001b[38;5;28;01mNone\u001b[39;00m:\n\u001b[0;32m-> 1353\u001b[0m     \u001b[38;5;28;43mself\u001b[39;49m\u001b[38;5;241;43m.\u001b[39;49m\u001b[43mclose\u001b[49m\u001b[43m(\u001b[49m\u001b[43m)\u001b[49m\n",
      "File \u001b[0;32m~/miniconda3/envs/SEs_Work/lib/python3.12/site-packages/pandas/io/excel/_base.py:1357\u001b[0m, in \u001b[0;36mExcelWriter.close\u001b[0;34m(self)\u001b[0m\n\u001b[1;32m   1355\u001b[0m \u001b[38;5;28;01mdef\u001b[39;00m \u001b[38;5;21mclose\u001b[39m(\u001b[38;5;28mself\u001b[39m) \u001b[38;5;241m-\u001b[39m\u001b[38;5;241m>\u001b[39m \u001b[38;5;28;01mNone\u001b[39;00m:\n\u001b[1;32m   1356\u001b[0m \u001b[38;5;250m    \u001b[39m\u001b[38;5;124;03m\"\"\"synonym for save, to make it more file-like\"\"\"\u001b[39;00m\n\u001b[0;32m-> 1357\u001b[0m     \u001b[38;5;28;43mself\u001b[39;49m\u001b[38;5;241;43m.\u001b[39;49m\u001b[43m_save\u001b[49m\u001b[43m(\u001b[49m\u001b[43m)\u001b[49m\n\u001b[1;32m   1358\u001b[0m     \u001b[38;5;28mself\u001b[39m\u001b[38;5;241m.\u001b[39m_handles\u001b[38;5;241m.\u001b[39mclose()\n",
      "File \u001b[0;32m~/miniconda3/envs/SEs_Work/lib/python3.12/site-packages/pandas/io/excel/_openpyxl.py:110\u001b[0m, in \u001b[0;36mOpenpyxlWriter._save\u001b[0;34m(self)\u001b[0m\n\u001b[1;32m    106\u001b[0m \u001b[38;5;28;01mdef\u001b[39;00m \u001b[38;5;21m_save\u001b[39m(\u001b[38;5;28mself\u001b[39m) \u001b[38;5;241m-\u001b[39m\u001b[38;5;241m>\u001b[39m \u001b[38;5;28;01mNone\u001b[39;00m:\n\u001b[1;32m    107\u001b[0m \u001b[38;5;250m    \u001b[39m\u001b[38;5;124;03m\"\"\"\u001b[39;00m\n\u001b[1;32m    108\u001b[0m \u001b[38;5;124;03m    Save workbook to disk.\u001b[39;00m\n\u001b[1;32m    109\u001b[0m \u001b[38;5;124;03m    \"\"\"\u001b[39;00m\n\u001b[0;32m--> 110\u001b[0m     \u001b[38;5;28;43mself\u001b[39;49m\u001b[38;5;241;43m.\u001b[39;49m\u001b[43mbook\u001b[49m\u001b[38;5;241;43m.\u001b[39;49m\u001b[43msave\u001b[49m\u001b[43m(\u001b[49m\u001b[38;5;28;43mself\u001b[39;49m\u001b[38;5;241;43m.\u001b[39;49m\u001b[43m_handles\u001b[49m\u001b[38;5;241;43m.\u001b[39;49m\u001b[43mhandle\u001b[49m\u001b[43m)\u001b[49m\n\u001b[1;32m    111\u001b[0m     \u001b[38;5;28;01mif\u001b[39;00m \u001b[38;5;124m\"\u001b[39m\u001b[38;5;124mr+\u001b[39m\u001b[38;5;124m\"\u001b[39m \u001b[38;5;129;01min\u001b[39;00m \u001b[38;5;28mself\u001b[39m\u001b[38;5;241m.\u001b[39m_mode \u001b[38;5;129;01mand\u001b[39;00m \u001b[38;5;129;01mnot\u001b[39;00m \u001b[38;5;28misinstance\u001b[39m(\u001b[38;5;28mself\u001b[39m\u001b[38;5;241m.\u001b[39m_handles\u001b[38;5;241m.\u001b[39mhandle, mmap\u001b[38;5;241m.\u001b[39mmmap):\n\u001b[1;32m    112\u001b[0m         \u001b[38;5;66;03m# truncate file to the written content\u001b[39;00m\n\u001b[1;32m    113\u001b[0m         \u001b[38;5;28mself\u001b[39m\u001b[38;5;241m.\u001b[39m_handles\u001b[38;5;241m.\u001b[39mhandle\u001b[38;5;241m.\u001b[39mtruncate()\n",
      "File \u001b[0;32m~/miniconda3/envs/SEs_Work/lib/python3.12/site-packages/openpyxl/workbook/workbook.py:386\u001b[0m, in \u001b[0;36mWorkbook.save\u001b[0;34m(self, filename)\u001b[0m\n\u001b[1;32m    384\u001b[0m \u001b[38;5;28;01mif\u001b[39;00m \u001b[38;5;28mself\u001b[39m\u001b[38;5;241m.\u001b[39mwrite_only \u001b[38;5;129;01mand\u001b[39;00m \u001b[38;5;129;01mnot\u001b[39;00m \u001b[38;5;28mself\u001b[39m\u001b[38;5;241m.\u001b[39mworksheets:\n\u001b[1;32m    385\u001b[0m     \u001b[38;5;28mself\u001b[39m\u001b[38;5;241m.\u001b[39mcreate_sheet()\n\u001b[0;32m--> 386\u001b[0m \u001b[43msave_workbook\u001b[49m\u001b[43m(\u001b[49m\u001b[38;5;28;43mself\u001b[39;49m\u001b[43m,\u001b[49m\u001b[43m \u001b[49m\u001b[43mfilename\u001b[49m\u001b[43m)\u001b[49m\n",
      "File \u001b[0;32m~/miniconda3/envs/SEs_Work/lib/python3.12/site-packages/openpyxl/writer/excel.py:294\u001b[0m, in \u001b[0;36msave_workbook\u001b[0;34m(workbook, filename)\u001b[0m\n\u001b[1;32m    292\u001b[0m workbook\u001b[38;5;241m.\u001b[39mproperties\u001b[38;5;241m.\u001b[39mmodified \u001b[38;5;241m=\u001b[39m datetime\u001b[38;5;241m.\u001b[39mdatetime\u001b[38;5;241m.\u001b[39mnow(tz\u001b[38;5;241m=\u001b[39mdatetime\u001b[38;5;241m.\u001b[39mtimezone\u001b[38;5;241m.\u001b[39mutc)\u001b[38;5;241m.\u001b[39mreplace(tzinfo\u001b[38;5;241m=\u001b[39m\u001b[38;5;28;01mNone\u001b[39;00m)\n\u001b[1;32m    293\u001b[0m writer \u001b[38;5;241m=\u001b[39m ExcelWriter(workbook, archive)\n\u001b[0;32m--> 294\u001b[0m \u001b[43mwriter\u001b[49m\u001b[38;5;241;43m.\u001b[39;49m\u001b[43msave\u001b[49m\u001b[43m(\u001b[49m\u001b[43m)\u001b[49m\n\u001b[1;32m    295\u001b[0m \u001b[38;5;28;01mreturn\u001b[39;00m \u001b[38;5;28;01mTrue\u001b[39;00m\n",
      "File \u001b[0;32m~/miniconda3/envs/SEs_Work/lib/python3.12/site-packages/openpyxl/writer/excel.py:275\u001b[0m, in \u001b[0;36mExcelWriter.save\u001b[0;34m(self)\u001b[0m\n\u001b[1;32m    273\u001b[0m \u001b[38;5;28;01mdef\u001b[39;00m \u001b[38;5;21msave\u001b[39m(\u001b[38;5;28mself\u001b[39m):\n\u001b[1;32m    274\u001b[0m \u001b[38;5;250m    \u001b[39m\u001b[38;5;124;03m\"\"\"Write data into the archive.\"\"\"\u001b[39;00m\n\u001b[0;32m--> 275\u001b[0m     \u001b[38;5;28;43mself\u001b[39;49m\u001b[38;5;241;43m.\u001b[39;49m\u001b[43mwrite_data\u001b[49m\u001b[43m(\u001b[49m\u001b[43m)\u001b[49m\n\u001b[1;32m    276\u001b[0m     \u001b[38;5;28mself\u001b[39m\u001b[38;5;241m.\u001b[39m_archive\u001b[38;5;241m.\u001b[39mclose()\n",
      "File \u001b[0;32m~/miniconda3/envs/SEs_Work/lib/python3.12/site-packages/openpyxl/writer/excel.py:89\u001b[0m, in \u001b[0;36mExcelWriter.write_data\u001b[0;34m(self)\u001b[0m\n\u001b[1;32m     87\u001b[0m writer \u001b[38;5;241m=\u001b[39m WorkbookWriter(\u001b[38;5;28mself\u001b[39m\u001b[38;5;241m.\u001b[39mworkbook)\n\u001b[1;32m     88\u001b[0m archive\u001b[38;5;241m.\u001b[39mwritestr(ARC_ROOT_RELS, writer\u001b[38;5;241m.\u001b[39mwrite_root_rels())\n\u001b[0;32m---> 89\u001b[0m archive\u001b[38;5;241m.\u001b[39mwritestr(ARC_WORKBOOK, \u001b[43mwriter\u001b[49m\u001b[38;5;241;43m.\u001b[39;49m\u001b[43mwrite\u001b[49m\u001b[43m(\u001b[49m\u001b[43m)\u001b[49m)\n\u001b[1;32m     90\u001b[0m archive\u001b[38;5;241m.\u001b[39mwritestr(ARC_WORKBOOK_RELS, writer\u001b[38;5;241m.\u001b[39mwrite_rels())\n\u001b[1;32m     92\u001b[0m \u001b[38;5;28mself\u001b[39m\u001b[38;5;241m.\u001b[39m_merge_vba()\n",
      "File \u001b[0;32m~/miniconda3/envs/SEs_Work/lib/python3.12/site-packages/openpyxl/workbook/_writer.py:150\u001b[0m, in \u001b[0;36mWorkbookWriter.write\u001b[0;34m(self)\u001b[0m\n\u001b[1;32m    148\u001b[0m \u001b[38;5;28mself\u001b[39m\u001b[38;5;241m.\u001b[39mwrite_names()\n\u001b[1;32m    149\u001b[0m \u001b[38;5;28mself\u001b[39m\u001b[38;5;241m.\u001b[39mwrite_pivots()\n\u001b[0;32m--> 150\u001b[0m \u001b[38;5;28;43mself\u001b[39;49m\u001b[38;5;241;43m.\u001b[39;49m\u001b[43mwrite_views\u001b[49m\u001b[43m(\u001b[49m\u001b[43m)\u001b[49m\n\u001b[1;32m    151\u001b[0m \u001b[38;5;28mself\u001b[39m\u001b[38;5;241m.\u001b[39mwrite_refs()\n\u001b[1;32m    153\u001b[0m \u001b[38;5;28;01mreturn\u001b[39;00m tostring(\u001b[38;5;28mself\u001b[39m\u001b[38;5;241m.\u001b[39mpackage\u001b[38;5;241m.\u001b[39mto_tree())\n",
      "File \u001b[0;32m~/miniconda3/envs/SEs_Work/lib/python3.12/site-packages/openpyxl/workbook/_writer.py:137\u001b[0m, in \u001b[0;36mWorkbookWriter.write_views\u001b[0;34m(self)\u001b[0m\n\u001b[1;32m    136\u001b[0m \u001b[38;5;28;01mdef\u001b[39;00m \u001b[38;5;21mwrite_views\u001b[39m(\u001b[38;5;28mself\u001b[39m):\n\u001b[0;32m--> 137\u001b[0m     active \u001b[38;5;241m=\u001b[39m \u001b[43mget_active_sheet\u001b[49m\u001b[43m(\u001b[49m\u001b[38;5;28;43mself\u001b[39;49m\u001b[38;5;241;43m.\u001b[39;49m\u001b[43mwb\u001b[49m\u001b[43m)\u001b[49m\n\u001b[1;32m    138\u001b[0m     \u001b[38;5;28;01mif\u001b[39;00m \u001b[38;5;28mself\u001b[39m\u001b[38;5;241m.\u001b[39mwb\u001b[38;5;241m.\u001b[39mviews:\n\u001b[1;32m    139\u001b[0m         \u001b[38;5;28mself\u001b[39m\u001b[38;5;241m.\u001b[39mwb\u001b[38;5;241m.\u001b[39mviews[\u001b[38;5;241m0\u001b[39m]\u001b[38;5;241m.\u001b[39mactiveTab \u001b[38;5;241m=\u001b[39m active\n",
      "File \u001b[0;32m~/miniconda3/envs/SEs_Work/lib/python3.12/site-packages/openpyxl/workbook/_writer.py:35\u001b[0m, in \u001b[0;36mget_active_sheet\u001b[0;34m(wb)\u001b[0m\n\u001b[1;32m     33\u001b[0m visible_sheets \u001b[38;5;241m=\u001b[39m [idx \u001b[38;5;28;01mfor\u001b[39;00m idx, sheet \u001b[38;5;129;01min\u001b[39;00m \u001b[38;5;28menumerate\u001b[39m(wb\u001b[38;5;241m.\u001b[39m_sheets) \u001b[38;5;28;01mif\u001b[39;00m sheet\u001b[38;5;241m.\u001b[39msheet_state \u001b[38;5;241m==\u001b[39m \u001b[38;5;124m\"\u001b[39m\u001b[38;5;124mvisible\u001b[39m\u001b[38;5;124m\"\u001b[39m]\n\u001b[1;32m     34\u001b[0m \u001b[38;5;28;01mif\u001b[39;00m \u001b[38;5;129;01mnot\u001b[39;00m visible_sheets:\n\u001b[0;32m---> 35\u001b[0m     \u001b[38;5;28;01mraise\u001b[39;00m \u001b[38;5;167;01mIndexError\u001b[39;00m(\u001b[38;5;124m\"\u001b[39m\u001b[38;5;124mAt least one sheet must be visible\u001b[39m\u001b[38;5;124m\"\u001b[39m)\n\u001b[1;32m     37\u001b[0m idx \u001b[38;5;241m=\u001b[39m wb\u001b[38;5;241m.\u001b[39m_active_sheet_index\n\u001b[1;32m     38\u001b[0m sheet \u001b[38;5;241m=\u001b[39m wb\u001b[38;5;241m.\u001b[39mactive\n",
      "\u001b[0;31mIndexError\u001b[0m: At least one sheet must be visible"
     ]
    }
   ],
   "source": [
    "RwandaJulySEs = {'Sheet1': Cluster_ScoresA, 'Sheet2': Village_ScoresA, 'Sheet3': Conclusions,\n",
    "          'Sheet4': Village_NPS, 'Sheet5': Cluster_NPS, 'Sheet8': VLevel_SEs }\n",
    "\n",
    "# Create a new Excel writer object\n",
    "with pd.ExcelWriter('Rwanda_SEs.xlsx', engine='openpyxl') as writer:\n",
    "    for sheet_name, df in JuneSEs.items():\n",
    "        df.to_excel(writer, sheet_name=sheet_name, index=False)\n",
    "\n",
    "print(\"Data saved successfully in 'RTV2024JuneSEs.xlsx'\")"
   ]
  },
  {
   "cell_type": "code",
   "execution_count": null,
   "id": "e7a3b11f-55b3-4897-bc3e-5d0ef1c8540d",
   "metadata": {},
   "outputs": [],
   "source": []
  }
 ],
 "metadata": {
  "kernelspec": {
   "display_name": "Python 3 (ipykernel)",
   "language": "python",
   "name": "python3"
  },
  "language_info": {
   "codemirror_mode": {
    "name": "ipython",
    "version": 3
   },
   "file_extension": ".py",
   "mimetype": "text/x-python",
   "name": "python",
   "nbconvert_exporter": "python",
   "pygments_lexer": "ipython3",
   "version": "3.12.3"
  }
 },
 "nbformat": 4,
 "nbformat_minor": 5
}
