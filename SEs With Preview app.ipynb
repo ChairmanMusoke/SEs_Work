{
 "cells": [
  {
   "cell_type": "code",
   "execution_count": 3,
   "id": "74528c00-d3f2-4602-a84b-d6ee13d22ad0",
   "metadata": {
    "tags": []
   },
   "outputs": [],
   "source": [
    "import streamlit as st\n",
    "import pandas as pd\n",
    "\n",
    "# Function to load the Excel file\n",
    "def load_data():\n",
    "    df = pd.read_excel('data/Village_ScoresA(1).xlsx', engine='openpyxl')\n",
    "    return df\n",
    "\n",
    "# Function to calculate and display the mean with comments\n",
    "def display_mean_with_comments(df, column):\n",
    "    mean_value = df[column].mean()\n",
    "    st.write(f\"Mean of {column}: {mean_value:.2f}\")\n",
    "    if mean_value < 70:\n",
    "        st.write(\"Comment: Off-Track - Issue of Missing Program Targets\")\n",
    "    elif 70 <= mean_value <= 79:\n",
    "        st.write(\"Comment: At Risk - Below Program Targets with Major Areas to Address\")\n",
    "    elif 80 <= mean_value <= 89:\n",
    "        st.write(\"Comment: On Track - Near Program Targets with Minor Areas to Address\")\n",
    "    else:\n",
    "        st.write(\"Comment: On Track - Meet or Exceed Program Targets\")\n",
    "\n",
    "# Streamlit app\n",
    "def main():\n",
    "    st.title(\"Village Data Summary App\")\n",
    "\n",
    "    # Load the data\n",
    "    df = load_data()\n",
    "\n",
    "    # Sidebar filters\n",
    "    st.sidebar.header(\"Filter options\")\n",
    "\n",
    "    districts = df['District'].unique()\n",
    "    selected_district = st.sidebar.selectbox(\"Select District\", districts)\n",
    "\n",
    "    clusters = df[df['District'] == selected_district]['Cluster'].unique()\n",
    "    selected_cluster = st.sidebar.selectbox(\"Select Cluster\", clusters)\n",
    "\n",
    "    # Filter data based on selected district and cluster\n",
    "    filtered_data_preview = df[(df['District'] == selected_district) & \n",
    "                               (df['Cluster'] == selected_cluster)]\n",
    "\n",
    "    villages = filtered_data_preview['Village'].unique()\n",
    "    selected_village = st.sidebar.selectbox(\"Select Village\", villages)\n",
    "\n",
    "    # Filter data based on selected village\n",
    "    filtered_data = filtered_data_preview[filtered_data_preview['Village'] == selected_village]\n",
    "\n",
    "    # Preview the filtered dataset for selected district and cluster\n",
    "    st.header(f\"Preview for District: {selected_district}, Cluster: {selected_cluster}\")\n",
    "    st.dataframe(filtered_data_preview)\n",
    "\n",
    "    # Select columns to summarize\n",
    "    columns_to_summarize = st.multiselect(\"Select columns to summarize\", filtered_data.columns)\n",
    "\n",
    "    if columns_to_summarize:\n",
    "        st.write(\"Summary Statistics\")\n",
    "        for column in columns_to_summarize:\n",
    "            display_mean_with_comments(filtered_data, column)\n",
    "\n",
    "if __name__ == \"__main__\":\n",
    "    main()\n"
   ]
  },
  {
   "cell_type": "code",
   "execution_count": null,
   "id": "5ac24f63-6597-4210-928d-e88f7522bb92",
   "metadata": {},
   "outputs": [],
   "source": []
  }
 ],
 "metadata": {
  "kernelspec": {
   "display_name": "Python 3 (ipykernel)",
   "language": "python",
   "name": "python3"
  },
  "language_info": {
   "codemirror_mode": {
    "name": "ipython",
    "version": 3
   },
   "file_extension": ".py",
   "mimetype": "text/x-python",
   "name": "python",
   "nbconvert_exporter": "python",
   "pygments_lexer": "ipython3",
   "version": "3.12.3"
  }
 },
 "nbformat": 4,
 "nbformat_minor": 5
}
